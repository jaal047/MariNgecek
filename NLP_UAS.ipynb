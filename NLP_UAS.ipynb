{
 "cells": [
  {
   "cell_type": "markdown",
   "metadata": {
    "id": "s_r7oqi4Mr53"
   },
   "source": [
    "# Import Library"
   ]
  },
  {
   "cell_type": "code",
   "execution_count": 57,
   "metadata": {
    "colab": {
     "base_uri": "https://localhost:8080/"
    },
    "id": "GHJKagC7jdju",
    "outputId": "84b363a5-6302-49d5-b8b4-d9484befb656"
   },
   "outputs": [
    {
     "name": "stdout",
     "output_type": "stream",
     "text": [
      "Requirement already satisfied: Sastrawi in c:\\users\\asus\\appdata\\local\\packages\\pythonsoftwarefoundation.python.3.10_qbz5n2kfra8p0\\localcache\\local-packages\\python310\\site-packages (1.0.1)\n",
      "Requirement already satisfied: nltk in c:\\users\\asus\\appdata\\local\\packages\\pythonsoftwarefoundation.python.3.10_qbz5n2kfra8p0\\localcache\\local-packages\\python310\\site-packages (3.7)\n",
      "Requirement already satisfied: tqdm in c:\\users\\asus\\appdata\\local\\packages\\pythonsoftwarefoundation.python.3.10_qbz5n2kfra8p0\\localcache\\local-packages\\python310\\site-packages (from nltk) (4.64.1)\n",
      "Requirement already satisfied: joblib in c:\\users\\asus\\appdata\\local\\packages\\pythonsoftwarefoundation.python.3.10_qbz5n2kfra8p0\\localcache\\local-packages\\python310\\site-packages (from nltk) (1.2.0)\n",
      "Requirement already satisfied: regex>=2021.8.3 in c:\\users\\asus\\appdata\\local\\packages\\pythonsoftwarefoundation.python.3.10_qbz5n2kfra8p0\\localcache\\local-packages\\python310\\site-packages (from nltk) (2022.9.13)\n",
      "Requirement already satisfied: click in c:\\users\\asus\\appdata\\local\\packages\\pythonsoftwarefoundation.python.3.10_qbz5n2kfra8p0\\localcache\\local-packages\\python310\\site-packages (from nltk) (8.1.3)\n",
      "Requirement already satisfied: colorama in c:\\users\\asus\\appdata\\local\\packages\\pythonsoftwarefoundation.python.3.10_qbz5n2kfra8p0\\localcache\\local-packages\\python310\\site-packages (from click->nltk) (0.4.5)\n"
     ]
    }
   ],
   "source": [
    "!pip install Sastrawi\n",
    "!pip install nltk"
   ]
  },
  {
   "cell_type": "code",
   "execution_count": 58,
   "metadata": {
    "colab": {
     "base_uri": "https://localhost:8080/"
    },
    "id": "5OwYtWqVgbhs",
    "outputId": "d2f2bb8c-c300-4767-8ba9-a3e56bf808d9"
   },
   "outputs": [
    {
     "name": "stderr",
     "output_type": "stream",
     "text": [
      "[nltk_data] Downloading package stopwords to\n",
      "[nltk_data]     C:\\Users\\ASUS\\AppData\\Roaming\\nltk_data...\n",
      "[nltk_data]   Package stopwords is already up-to-date!\n",
      "[nltk_data] Downloading package punkt to\n",
      "[nltk_data]     C:\\Users\\ASUS\\AppData\\Roaming\\nltk_data...\n",
      "[nltk_data]   Package punkt is already up-to-date!\n"
     ]
    }
   ],
   "source": [
    "import numpy as np\n",
    "import pandas as pd\n",
    "import pandas as pd\n",
    "import numpy as np\n",
    "import nltk\n",
    "import re\n",
    "from nltk.corpus import stopwords\n",
    "from nltk.stem.wordnet import WordNetLemmatizer\n",
    "nltk.download('stopwords')\n",
    "nltk.download(\"punkt\")\n",
    "\n",
    "import Sastrawi\n",
    "from Sastrawi.Stemmer.StemmerFactory import StemmerFactory\n",
    "from sklearn.model_selection import train_test_split"
   ]
  },
  {
   "cell_type": "markdown",
   "metadata": {
    "id": "_gDzixMaMxbV"
   },
   "source": [
    "#Import Data"
   ]
  },
  {
   "cell_type": "code",
   "execution_count": 59,
   "metadata": {
    "colab": {
     "base_uri": "https://localhost:8080/",
     "height": 206
    },
    "id": "Z9WQgv1jgooM",
    "outputId": "840494fe-6a06-43b9-c515-a1c896b712ac"
   },
   "outputs": [
    {
     "data": {
      "text/html": [
       "<div>\n",
       "<style scoped>\n",
       "    .dataframe tbody tr th:only-of-type {\n",
       "        vertical-align: middle;\n",
       "    }\n",
       "\n",
       "    .dataframe tbody tr th {\n",
       "        vertical-align: top;\n",
       "    }\n",
       "\n",
       "    .dataframe thead th {\n",
       "        text-align: right;\n",
       "    }\n",
       "</style>\n",
       "<table border=\"1\" class=\"dataframe\">\n",
       "  <thead>\n",
       "    <tr style=\"text-align: right;\">\n",
       "      <th></th>\n",
       "      <th>Teks</th>\n",
       "      <th>label</th>\n",
       "    </tr>\n",
       "  </thead>\n",
       "  <tbody>\n",
       "    <tr>\n",
       "      <th>20</th>\n",
       "      <td>Awal bulan saat nya anda eksis lebih lama! Int...</td>\n",
       "      <td>2</td>\n",
       "    </tr>\n",
       "    <tr>\n",
       "      <th>425</th>\n",
       "      <td>PESAN RESMI PT.3Care Indonesia Berkat isi Ulan...</td>\n",
       "      <td>1</td>\n",
       "    </tr>\n",
       "    <tr>\n",
       "      <th>655</th>\n",
       "      <td>Baik Pak, bsk sekalian kami bawa form penilaia...</td>\n",
       "      <td>0</td>\n",
       "    </tr>\n",
       "    <tr>\n",
       "      <th>144</th>\n",
       "      <td>Nikmati Double Internetan di jaringan Data ter...</td>\n",
       "      <td>2</td>\n",
       "    </tr>\n",
       "    <tr>\n",
       "      <th>366</th>\n",
       "      <td>MEGA CELL Cari agen pulsa 1 Cip ke semua Opera...</td>\n",
       "      <td>1</td>\n",
       "    </tr>\n",
       "  </tbody>\n",
       "</table>\n",
       "</div>"
      ],
      "text/plain": [
       "                                                  Teks  label\n",
       "20   Awal bulan saat nya anda eksis lebih lama! Int...      2\n",
       "425  PESAN RESMI PT.3Care Indonesia Berkat isi Ulan...      1\n",
       "655  Baik Pak, bsk sekalian kami bawa form penilaia...      0\n",
       "144  Nikmati Double Internetan di jaringan Data ter...      2\n",
       "366  MEGA CELL Cari agen pulsa 1 Cip ke semua Opera...      1"
      ]
     },
     "execution_count": 59,
     "metadata": {},
     "output_type": "execute_result"
    }
   ],
   "source": [
    "df = pd.read_csv('dataset_sms_spam_v1.csv')\n",
    "df.sample(5)"
   ]
  },
  {
   "cell_type": "code",
   "execution_count": 60,
   "metadata": {
    "colab": {
     "base_uri": "https://localhost:8080/",
     "height": 206
    },
    "id": "-VkafkW_g5ir",
    "outputId": "9c43d1a2-a5ed-417d-d431-74d0069b3c74"
   },
   "outputs": [
    {
     "data": {
      "text/html": [
       "<div>\n",
       "<style scoped>\n",
       "    .dataframe tbody tr th:only-of-type {\n",
       "        vertical-align: middle;\n",
       "    }\n",
       "\n",
       "    .dataframe tbody tr th {\n",
       "        vertical-align: top;\n",
       "    }\n",
       "\n",
       "    .dataframe thead th {\n",
       "        text-align: right;\n",
       "    }\n",
       "</style>\n",
       "<table border=\"1\" class=\"dataframe\">\n",
       "  <thead>\n",
       "    <tr style=\"text-align: right;\">\n",
       "      <th></th>\n",
       "      <th>Teks</th>\n",
       "      <th>label</th>\n",
       "      <th>info_label</th>\n",
       "    </tr>\n",
       "  </thead>\n",
       "  <tbody>\n",
       "    <tr>\n",
       "      <th>0</th>\n",
       "      <td>[PROMO] Beli paket Flash mulai 1GB di MY TELKO...</td>\n",
       "      <td>2</td>\n",
       "      <td>SMS Promo</td>\n",
       "    </tr>\n",
       "    <tr>\n",
       "      <th>1</th>\n",
       "      <td>2.5 GB/30 hari hanya Rp 35 Ribu Spesial buat A...</td>\n",
       "      <td>2</td>\n",
       "      <td>SMS Promo</td>\n",
       "    </tr>\n",
       "    <tr>\n",
       "      <th>2</th>\n",
       "      <td>2016-07-08 11:47:11.Plg Yth, sisa kuota Flash ...</td>\n",
       "      <td>2</td>\n",
       "      <td>SMS Promo</td>\n",
       "    </tr>\n",
       "    <tr>\n",
       "      <th>3</th>\n",
       "      <td>2016-08-07 11:29:47.Plg Yth, sisa kuota Flash ...</td>\n",
       "      <td>2</td>\n",
       "      <td>SMS Promo</td>\n",
       "    </tr>\n",
       "    <tr>\n",
       "      <th>4</th>\n",
       "      <td>4.5GB/30 hari hanya Rp 55 Ribu Spesial buat an...</td>\n",
       "      <td>2</td>\n",
       "      <td>SMS Promo</td>\n",
       "    </tr>\n",
       "  </tbody>\n",
       "</table>\n",
       "</div>"
      ],
      "text/plain": [
       "                                                Teks  label info_label\n",
       "0  [PROMO] Beli paket Flash mulai 1GB di MY TELKO...      2  SMS Promo\n",
       "1  2.5 GB/30 hari hanya Rp 35 Ribu Spesial buat A...      2  SMS Promo\n",
       "2  2016-07-08 11:47:11.Plg Yth, sisa kuota Flash ...      2  SMS Promo\n",
       "3  2016-08-07 11:29:47.Plg Yth, sisa kuota Flash ...      2  SMS Promo\n",
       "4  4.5GB/30 hari hanya Rp 55 Ribu Spesial buat an...      2  SMS Promo"
      ]
     },
     "metadata": {},
     "output_type": "display_data"
    }
   ],
   "source": [
    "def info(label):\n",
    "  if label ==0:\n",
    "    return 'SMS Normal'\n",
    "  elif label ==1:\n",
    "    return 'SMS Penipuan'\n",
    "  elif label ==2:\n",
    "    return 'SMS Promo'\n",
    "\n",
    "df['info_label']=df['label'].map(info)\n",
    "display(df.head())"
   ]
  },
  {
   "cell_type": "code",
   "execution_count": 61,
   "metadata": {
    "colab": {
     "base_uri": "https://localhost:8080/"
    },
    "id": "IypYgRb9iH_s",
    "outputId": "fb0b64ec-ccf0-4d97-aeb8-87d52f178fdf"
   },
   "outputs": [
    {
     "data": {
      "text/plain": [
       "(1143, 3)"
      ]
     },
     "execution_count": 61,
     "metadata": {},
     "output_type": "execute_result"
    }
   ],
   "source": [
    "df.shape"
   ]
  },
  {
   "cell_type": "markdown",
   "metadata": {
    "id": "KFpioBP2jEx_"
   },
   "source": [
    "# Data Cleaning"
   ]
  },
  {
   "cell_type": "code",
   "execution_count": 62,
   "metadata": {
    "colab": {
     "base_uri": "https://localhost:8080/"
    },
    "id": "U5JlnTpiiKu2",
    "outputId": "c7e1f749-2897-4170-d442-e35dad970188"
   },
   "outputs": [
    {
     "name": "stdout",
     "output_type": "stream",
     "text": [
      "<class 'pandas.core.frame.DataFrame'>\n",
      "RangeIndex: 1143 entries, 0 to 1142\n",
      "Data columns (total 3 columns):\n",
      " #   Column      Non-Null Count  Dtype \n",
      "---  ------      --------------  ----- \n",
      " 0   Teks        1143 non-null   object\n",
      " 1   label       1143 non-null   int64 \n",
      " 2   info_label  1143 non-null   object\n",
      "dtypes: int64(1), object(2)\n",
      "memory usage: 26.9+ KB\n"
     ]
    }
   ],
   "source": [
    "df.info()"
   ]
  },
  {
   "cell_type": "code",
   "execution_count": 63,
   "metadata": {
    "colab": {
     "base_uri": "https://localhost:8080/"
    },
    "id": "V4GCG_SgjGaI",
    "outputId": "a4a4d2cc-30a1-4a1a-8060-0e7984d975ab"
   },
   "outputs": [
    {
     "data": {
      "text/plain": [
       "Teks          0\n",
       "label         0\n",
       "info_label    0\n",
       "dtype: int64"
      ]
     },
     "execution_count": 63,
     "metadata": {},
     "output_type": "execute_result"
    }
   ],
   "source": [
    "df.isnull().sum()"
   ]
  },
  {
   "cell_type": "code",
   "execution_count": 64,
   "metadata": {
    "colab": {
     "base_uri": "https://localhost:8080/"
    },
    "id": "1hsAfTIOjN-N",
    "outputId": "e103d587-22d9-470e-e9a2-8bd06737b882"
   },
   "outputs": [
    {
     "data": {
      "text/plain": [
       "1"
      ]
     },
     "execution_count": 64,
     "metadata": {},
     "output_type": "execute_result"
    }
   ],
   "source": [
    "df.duplicated().sum()"
   ]
  },
  {
   "cell_type": "code",
   "execution_count": 65,
   "metadata": {
    "id": "JnkirAojjVHL"
   },
   "outputs": [],
   "source": [
    "# remove duplicates\n",
    "df = df.drop_duplicates(keep='first')"
   ]
  },
  {
   "cell_type": "code",
   "execution_count": 66,
   "metadata": {
    "colab": {
     "base_uri": "https://localhost:8080/"
    },
    "id": "dXWRdiy8jXAa",
    "outputId": "670f89a4-ba44-46ba-b407-a3d1bcfa4bc9"
   },
   "outputs": [
    {
     "data": {
      "text/plain": [
       "0"
      ]
     },
     "execution_count": 66,
     "metadata": {},
     "output_type": "execute_result"
    }
   ],
   "source": [
    "df.duplicated().sum()"
   ]
  },
  {
   "cell_type": "code",
   "execution_count": 67,
   "metadata": {
    "colab": {
     "base_uri": "https://localhost:8080/"
    },
    "id": "WrA0H0vKjZ7z",
    "outputId": "02511481-f426-4af3-e66f-8736fd337307"
   },
   "outputs": [
    {
     "data": {
      "text/plain": [
       "(1142, 3)"
      ]
     },
     "execution_count": 67,
     "metadata": {},
     "output_type": "execute_result"
    }
   ],
   "source": [
    "df.shape"
   ]
  },
  {
   "cell_type": "markdown",
   "metadata": {
    "id": "n_y-heoqjg75"
   },
   "source": [
    "# EDA"
   ]
  },
  {
   "cell_type": "code",
   "execution_count": 68,
   "metadata": {
    "colab": {
     "base_uri": "https://localhost:8080/"
    },
    "id": "QRrjgAjQjq-s",
    "outputId": "a5eb3599-a296-4270-ee63-6114b7aca99b"
   },
   "outputs": [
    {
     "data": {
      "text/plain": [
       "0    568\n",
       "1    335\n",
       "2    239\n",
       "Name: label, dtype: int64"
      ]
     },
     "execution_count": 68,
     "metadata": {},
     "output_type": "execute_result"
    }
   ],
   "source": [
    "df['label'].value_counts()"
   ]
  },
  {
   "cell_type": "code",
   "execution_count": 69,
   "metadata": {
    "colab": {
     "base_uri": "https://localhost:8080/",
     "height": 248
    },
    "id": "Nj9U9Tc5jzXX",
    "outputId": "93b25a10-3614-4f41-bf4b-8a3f43d140fb"
   },
   "outputs": [
    {
     "data": {
      "image/png": "[encoded data removed]",
      "text/plain": [
       "<Figure size 640x480 with 1 Axes>"
      ]
     },
     "metadata": {},
     "output_type": "display_data"
    }
   ],
   "source": [
    "import matplotlib.pyplot as plt\n",
    "plt.pie(df['label'].value_counts(), labels=['SMS Normal','SMS Penipuan', 'SMS Promo'],autopct=\"%0.2f\")\n",
    "plt.show()"
   ]
  },
  {
   "cell_type": "code",
   "execution_count": 70,
   "metadata": {
    "colab": {
     "base_uri": "https://localhost:8080/",
     "height": 206
    },
    "id": "Gp58BqV0fAoP",
    "outputId": "54b82669-7f8e-4579-f7ca-c95b25009f9f"
   },
   "outputs": [
    {
     "data": {
      "text/html": [
       "<div>\n",
       "<style scoped>\n",
       "    .dataframe tbody tr th:only-of-type {\n",
       "        vertical-align: middle;\n",
       "    }\n",
       "\n",
       "    .dataframe tbody tr th {\n",
       "        vertical-align: top;\n",
       "    }\n",
       "\n",
       "    .dataframe thead th {\n",
       "        text-align: right;\n",
       "    }\n",
       "</style>\n",
       "<table border=\"1\" class=\"dataframe\">\n",
       "  <thead>\n",
       "    <tr style=\"text-align: right;\">\n",
       "      <th></th>\n",
       "      <th>Teks</th>\n",
       "      <th>label</th>\n",
       "      <th>info_label</th>\n",
       "      <th>jumlah_karakter</th>\n",
       "      <th>jumlah_kata</th>\n",
       "      <th>jumlah_kalimat</th>\n",
       "    </tr>\n",
       "  </thead>\n",
       "  <tbody>\n",
       "    <tr>\n",
       "      <th>0</th>\n",
       "      <td>[PROMO] Beli paket Flash mulai 1GB di MY TELKO...</td>\n",
       "      <td>2</td>\n",
       "      <td>SMS Promo</td>\n",
       "      <td>153</td>\n",
       "      <td>32</td>\n",
       "      <td>2</td>\n",
       "    </tr>\n",
       "    <tr>\n",
       "      <th>1</th>\n",
       "      <td>2.5 GB/30 hari hanya Rp 35 Ribu Spesial buat A...</td>\n",
       "      <td>2</td>\n",
       "      <td>SMS Promo</td>\n",
       "      <td>152</td>\n",
       "      <td>34</td>\n",
       "      <td>4</td>\n",
       "    </tr>\n",
       "    <tr>\n",
       "      <th>2</th>\n",
       "      <td>2016-07-08 11:47:11.Plg Yth, sisa kuota Flash ...</td>\n",
       "      <td>2</td>\n",
       "      <td>SMS Promo</td>\n",
       "      <td>152</td>\n",
       "      <td>29</td>\n",
       "      <td>2</td>\n",
       "    </tr>\n",
       "    <tr>\n",
       "      <th>3</th>\n",
       "      <td>2016-08-07 11:29:47.Plg Yth, sisa kuota Flash ...</td>\n",
       "      <td>2</td>\n",
       "      <td>SMS Promo</td>\n",
       "      <td>153</td>\n",
       "      <td>29</td>\n",
       "      <td>2</td>\n",
       "    </tr>\n",
       "    <tr>\n",
       "      <th>4</th>\n",
       "      <td>4.5GB/30 hari hanya Rp 55 Ribu Spesial buat an...</td>\n",
       "      <td>2</td>\n",
       "      <td>SMS Promo</td>\n",
       "      <td>113</td>\n",
       "      <td>25</td>\n",
       "      <td>3</td>\n",
       "    </tr>\n",
       "  </tbody>\n",
       "</table>\n",
       "</div>"
      ],
      "text/plain": [
       "                                                Teks  label info_label  \\\n",
       "0  [PROMO] Beli paket Flash mulai 1GB di MY TELKO...      2  SMS Promo   \n",
       "1  2.5 GB/30 hari hanya Rp 35 Ribu Spesial buat A...      2  SMS Promo   \n",
       "2  2016-07-08 11:47:11.Plg Yth, sisa kuota Flash ...      2  SMS Promo   \n",
       "3  2016-08-07 11:29:47.Plg Yth, sisa kuota Flash ...      2  SMS Promo   \n",
       "4  4.5GB/30 hari hanya Rp 55 Ribu Spesial buat an...      2  SMS Promo   \n",
       "\n",
       "   jumlah_karakter  jumlah_kata  jumlah_kalimat  \n",
       "0              153           32               2  \n",
       "1              152           34               4  \n",
       "2              152           29               2  \n",
       "3              153           29               2  \n",
       "4              113           25               3  "
      ]
     },
     "execution_count": 70,
     "metadata": {},
     "output_type": "execute_result"
    }
   ],
   "source": [
    "df['jumlah_karakter'] = df['Teks'].apply(len)\n",
    "df['jumlah_kata'] = df['Teks'].apply(lambda x:len(nltk.word_tokenize(x)))\n",
    "df['jumlah_kalimat'] = df['Teks'].apply(lambda x:len(nltk.sent_tokenize(x)))\n",
    "df.head()"
   ]
  },
  {
   "cell_type": "code",
   "execution_count": 71,
   "metadata": {
    "colab": {
     "base_uri": "https://localhost:8080/",
     "height": 300
    },
    "id": "YwUeR9dRftpT",
    "outputId": "c8d68219-1055-4c7a-e960-a380e088125c"
   },
   "outputs": [
    {
     "data": {
      "text/html": [
       "<div>\n",
       "<style scoped>\n",
       "    .dataframe tbody tr th:only-of-type {\n",
       "        vertical-align: middle;\n",
       "    }\n",
       "\n",
       "    .dataframe tbody tr th {\n",
       "        vertical-align: top;\n",
       "    }\n",
       "\n",
       "    .dataframe thead th {\n",
       "        text-align: right;\n",
       "    }\n",
       "</style>\n",
       "<table border=\"1\" class=\"dataframe\">\n",
       "  <thead>\n",
       "    <tr style=\"text-align: right;\">\n",
       "      <th></th>\n",
       "      <th>jumlah_karakter</th>\n",
       "      <th>jumlah_kata</th>\n",
       "      <th>jumlah_kalimat</th>\n",
       "    </tr>\n",
       "  </thead>\n",
       "  <tbody>\n",
       "    <tr>\n",
       "      <th>count</th>\n",
       "      <td>1142.000000</td>\n",
       "      <td>1142.000000</td>\n",
       "      <td>1142.000000</td>\n",
       "    </tr>\n",
       "    <tr>\n",
       "      <th>mean</th>\n",
       "      <td>108.757443</td>\n",
       "      <td>19.957093</td>\n",
       "      <td>1.802102</td>\n",
       "    </tr>\n",
       "    <tr>\n",
       "      <th>std</th>\n",
       "      <td>59.098470</td>\n",
       "      <td>10.487123</td>\n",
       "      <td>1.125466</td>\n",
       "    </tr>\n",
       "    <tr>\n",
       "      <th>min</th>\n",
       "      <td>13.000000</td>\n",
       "      <td>3.000000</td>\n",
       "      <td>1.000000</td>\n",
       "    </tr>\n",
       "    <tr>\n",
       "      <th>25%</th>\n",
       "      <td>58.000000</td>\n",
       "      <td>11.000000</td>\n",
       "      <td>1.000000</td>\n",
       "    </tr>\n",
       "    <tr>\n",
       "      <th>50%</th>\n",
       "      <td>113.000000</td>\n",
       "      <td>20.000000</td>\n",
       "      <td>1.000000</td>\n",
       "    </tr>\n",
       "    <tr>\n",
       "      <th>75%</th>\n",
       "      <td>152.000000</td>\n",
       "      <td>26.000000</td>\n",
       "      <td>2.000000</td>\n",
       "    </tr>\n",
       "    <tr>\n",
       "      <th>max</th>\n",
       "      <td>434.000000</td>\n",
       "      <td>83.000000</td>\n",
       "      <td>11.000000</td>\n",
       "    </tr>\n",
       "  </tbody>\n",
       "</table>\n",
       "</div>"
      ],
      "text/plain": [
       "       jumlah_karakter  jumlah_kata  jumlah_kalimat\n",
       "count      1142.000000  1142.000000     1142.000000\n",
       "mean        108.757443    19.957093        1.802102\n",
       "std          59.098470    10.487123        1.125466\n",
       "min          13.000000     3.000000        1.000000\n",
       "25%          58.000000    11.000000        1.000000\n",
       "50%         113.000000    20.000000        1.000000\n",
       "75%         152.000000    26.000000        2.000000\n",
       "max         434.000000    83.000000       11.000000"
      ]
     },
     "execution_count": 71,
     "metadata": {},
     "output_type": "execute_result"
    }
   ],
   "source": [
    "df[['jumlah_karakter','jumlah_kata','jumlah_kalimat']].describe()"
   ]
  },
  {
   "cell_type": "code",
   "execution_count": 72,
   "metadata": {
    "colab": {
     "base_uri": "https://localhost:8080/",
     "height": 300
    },
    "id": "x4WZlYzpgFhl",
    "outputId": "fa0c662d-7381-4032-ad34-8b9f298cd51c"
   },
   "outputs": [
    {
     "data": {
      "text/html": [
       "<div>\n",
       "<style scoped>\n",
       "    .dataframe tbody tr th:only-of-type {\n",
       "        vertical-align: middle;\n",
       "    }\n",
       "\n",
       "    .dataframe tbody tr th {\n",
       "        vertical-align: top;\n",
       "    }\n",
       "\n",
       "    .dataframe thead th {\n",
       "        text-align: right;\n",
       "    }\n",
       "</style>\n",
       "<table border=\"1\" class=\"dataframe\">\n",
       "  <thead>\n",
       "    <tr style=\"text-align: right;\">\n",
       "      <th></th>\n",
       "      <th>jumlah_karakter</th>\n",
       "      <th>jumlah_kata</th>\n",
       "      <th>jumlah_kalimat</th>\n",
       "    </tr>\n",
       "  </thead>\n",
       "  <tbody>\n",
       "    <tr>\n",
       "      <th>count</th>\n",
       "      <td>568.000000</td>\n",
       "      <td>568.000000</td>\n",
       "      <td>568.000000</td>\n",
       "    </tr>\n",
       "    <tr>\n",
       "      <th>mean</th>\n",
       "      <td>70.519366</td>\n",
       "      <td>13.820423</td>\n",
       "      <td>1.468310</td>\n",
       "    </tr>\n",
       "    <tr>\n",
       "      <th>std</th>\n",
       "      <td>46.267030</td>\n",
       "      <td>8.554389</td>\n",
       "      <td>0.843514</td>\n",
       "    </tr>\n",
       "    <tr>\n",
       "      <th>min</th>\n",
       "      <td>13.000000</td>\n",
       "      <td>3.000000</td>\n",
       "      <td>1.000000</td>\n",
       "    </tr>\n",
       "    <tr>\n",
       "      <th>25%</th>\n",
       "      <td>42.000000</td>\n",
       "      <td>8.000000</td>\n",
       "      <td>1.000000</td>\n",
       "    </tr>\n",
       "    <tr>\n",
       "      <th>50%</th>\n",
       "      <td>58.500000</td>\n",
       "      <td>12.000000</td>\n",
       "      <td>1.000000</td>\n",
       "    </tr>\n",
       "    <tr>\n",
       "      <th>75%</th>\n",
       "      <td>83.250000</td>\n",
       "      <td>17.000000</td>\n",
       "      <td>2.000000</td>\n",
       "    </tr>\n",
       "    <tr>\n",
       "      <th>max</th>\n",
       "      <td>434.000000</td>\n",
       "      <td>73.000000</td>\n",
       "      <td>11.000000</td>\n",
       "    </tr>\n",
       "  </tbody>\n",
       "</table>\n",
       "</div>"
      ],
      "text/plain": [
       "       jumlah_karakter  jumlah_kata  jumlah_kalimat\n",
       "count       568.000000   568.000000      568.000000\n",
       "mean         70.519366    13.820423        1.468310\n",
       "std          46.267030     8.554389        0.843514\n",
       "min          13.000000     3.000000        1.000000\n",
       "25%          42.000000     8.000000        1.000000\n",
       "50%          58.500000    12.000000        1.000000\n",
       "75%          83.250000    17.000000        2.000000\n",
       "max         434.000000    73.000000       11.000000"
      ]
     },
     "execution_count": 72,
     "metadata": {},
     "output_type": "execute_result"
    }
   ],
   "source": [
    "#sms normal\n",
    "df[df['label'] == 0][['jumlah_karakter','jumlah_kata','jumlah_kalimat']].describe()"
   ]
  },
  {
   "cell_type": "code",
   "execution_count": 73,
   "metadata": {
    "colab": {
     "base_uri": "https://localhost:8080/",
     "height": 300
    },
    "id": "7iV5uh-0gVlW",
    "outputId": "f76f2527-8854-4963-981e-80c0530a27ee"
   },
   "outputs": [
    {
     "data": {
      "text/html": [
       "<div>\n",
       "<style scoped>\n",
       "    .dataframe tbody tr th:only-of-type {\n",
       "        vertical-align: middle;\n",
       "    }\n",
       "\n",
       "    .dataframe tbody tr th {\n",
       "        vertical-align: top;\n",
       "    }\n",
       "\n",
       "    .dataframe thead th {\n",
       "        text-align: right;\n",
       "    }\n",
       "</style>\n",
       "<table border=\"1\" class=\"dataframe\">\n",
       "  <thead>\n",
       "    <tr style=\"text-align: right;\">\n",
       "      <th></th>\n",
       "      <th>jumlah_karakter</th>\n",
       "      <th>jumlah_kata</th>\n",
       "      <th>jumlah_kalimat</th>\n",
       "    </tr>\n",
       "  </thead>\n",
       "  <tbody>\n",
       "    <tr>\n",
       "      <th>count</th>\n",
       "      <td>335.000000</td>\n",
       "      <td>335.000000</td>\n",
       "      <td>335.000000</td>\n",
       "    </tr>\n",
       "    <tr>\n",
       "      <th>mean</th>\n",
       "      <td>150.835821</td>\n",
       "      <td>25.068657</td>\n",
       "      <td>1.704478</td>\n",
       "    </tr>\n",
       "    <tr>\n",
       "      <th>std</th>\n",
       "      <td>49.443731</td>\n",
       "      <td>9.031784</td>\n",
       "      <td>1.052148</td>\n",
       "    </tr>\n",
       "    <tr>\n",
       "      <th>min</th>\n",
       "      <td>46.000000</td>\n",
       "      <td>7.000000</td>\n",
       "      <td>1.000000</td>\n",
       "    </tr>\n",
       "    <tr>\n",
       "      <th>25%</th>\n",
       "      <td>134.500000</td>\n",
       "      <td>20.000000</td>\n",
       "      <td>1.000000</td>\n",
       "    </tr>\n",
       "    <tr>\n",
       "      <th>50%</th>\n",
       "      <td>151.000000</td>\n",
       "      <td>24.000000</td>\n",
       "      <td>1.000000</td>\n",
       "    </tr>\n",
       "    <tr>\n",
       "      <th>75%</th>\n",
       "      <td>159.000000</td>\n",
       "      <td>28.500000</td>\n",
       "      <td>2.000000</td>\n",
       "    </tr>\n",
       "    <tr>\n",
       "      <th>max</th>\n",
       "      <td>431.000000</td>\n",
       "      <td>70.000000</td>\n",
       "      <td>7.000000</td>\n",
       "    </tr>\n",
       "  </tbody>\n",
       "</table>\n",
       "</div>"
      ],
      "text/plain": [
       "       jumlah_karakter  jumlah_kata  jumlah_kalimat\n",
       "count       335.000000   335.000000      335.000000\n",
       "mean        150.835821    25.068657        1.704478\n",
       "std          49.443731     9.031784        1.052148\n",
       "min          46.000000     7.000000        1.000000\n",
       "25%         134.500000    20.000000        1.000000\n",
       "50%         151.000000    24.000000        1.000000\n",
       "75%         159.000000    28.500000        2.000000\n",
       "max         431.000000    70.000000        7.000000"
      ]
     },
     "execution_count": 73,
     "metadata": {},
     "output_type": "execute_result"
    }
   ],
   "source": [
    "#sms penipuan\n",
    "df[df['label'] == 1][['jumlah_karakter','jumlah_kata','jumlah_kalimat']].describe()"
   ]
  },
  {
   "cell_type": "code",
   "execution_count": 74,
   "metadata": {
    "colab": {
     "base_uri": "https://localhost:8080/",
     "height": 300
    },
    "id": "ayf-0d-YgdOg",
    "outputId": "51d1c742-4db2-4878-fd8f-4d9b5964d088"
   },
   "outputs": [
    {
     "data": {
      "text/html": [
       "<div>\n",
       "<style scoped>\n",
       "    .dataframe tbody tr th:only-of-type {\n",
       "        vertical-align: middle;\n",
       "    }\n",
       "\n",
       "    .dataframe tbody tr th {\n",
       "        vertical-align: top;\n",
       "    }\n",
       "\n",
       "    .dataframe thead th {\n",
       "        text-align: right;\n",
       "    }\n",
       "</style>\n",
       "<table border=\"1\" class=\"dataframe\">\n",
       "  <thead>\n",
       "    <tr style=\"text-align: right;\">\n",
       "      <th></th>\n",
       "      <th>jumlah_karakter</th>\n",
       "      <th>jumlah_kata</th>\n",
       "      <th>jumlah_kalimat</th>\n",
       "    </tr>\n",
       "  </thead>\n",
       "  <tbody>\n",
       "    <tr>\n",
       "      <th>count</th>\n",
       "      <td>239.000000</td>\n",
       "      <td>239.000000</td>\n",
       "      <td>239.000000</td>\n",
       "    </tr>\n",
       "    <tr>\n",
       "      <th>mean</th>\n",
       "      <td>140.652720</td>\n",
       "      <td>27.376569</td>\n",
       "      <td>2.732218</td>\n",
       "    </tr>\n",
       "    <tr>\n",
       "      <th>std</th>\n",
       "      <td>34.788568</td>\n",
       "      <td>7.517517</td>\n",
       "      <td>1.294562</td>\n",
       "    </tr>\n",
       "    <tr>\n",
       "      <th>min</th>\n",
       "      <td>50.000000</td>\n",
       "      <td>9.000000</td>\n",
       "      <td>1.000000</td>\n",
       "    </tr>\n",
       "    <tr>\n",
       "      <th>25%</th>\n",
       "      <td>123.000000</td>\n",
       "      <td>23.000000</td>\n",
       "      <td>2.000000</td>\n",
       "    </tr>\n",
       "    <tr>\n",
       "      <th>50%</th>\n",
       "      <td>142.000000</td>\n",
       "      <td>27.000000</td>\n",
       "      <td>3.000000</td>\n",
       "    </tr>\n",
       "    <tr>\n",
       "      <th>75%</th>\n",
       "      <td>156.000000</td>\n",
       "      <td>31.000000</td>\n",
       "      <td>4.000000</td>\n",
       "    </tr>\n",
       "    <tr>\n",
       "      <th>max</th>\n",
       "      <td>321.000000</td>\n",
       "      <td>83.000000</td>\n",
       "      <td>8.000000</td>\n",
       "    </tr>\n",
       "  </tbody>\n",
       "</table>\n",
       "</div>"
      ],
      "text/plain": [
       "       jumlah_karakter  jumlah_kata  jumlah_kalimat\n",
       "count       239.000000   239.000000      239.000000\n",
       "mean        140.652720    27.376569        2.732218\n",
       "std          34.788568     7.517517        1.294562\n",
       "min          50.000000     9.000000        1.000000\n",
       "25%         123.000000    23.000000        2.000000\n",
       "50%         142.000000    27.000000        3.000000\n",
       "75%         156.000000    31.000000        4.000000\n",
       "max         321.000000    83.000000        8.000000"
      ]
     },
     "execution_count": 74,
     "metadata": {},
     "output_type": "execute_result"
    }
   ],
   "source": [
    "#sms promo\n",
    "df[df['label'] == 2][['jumlah_karakter','jumlah_kata','jumlah_kalimat']].describe()"
   ]
  },
  {
   "cell_type": "code",
   "execution_count": 75,
   "metadata": {
    "colab": {
     "base_uri": "https://localhost:8080/",
     "height": 357
    },
    "id": "ryD8C3GTgjp3",
    "outputId": "31f57434-a6f0-489e-db33-259bcea6d34c"
   },
   "outputs": [
    {
     "name": "stderr",
     "output_type": "stream",
     "text": [
      "C:\\Users\\ASUS\\AppData\\Local\\Temp\\ipykernel_22888\\1950383679.py:2: FutureWarning: The default value of numeric_only in DataFrame.corr is deprecated. In a future version, it will default to False. Select only valid columns or specify the value of numeric_only to silence this warning.\n",
      "  sns.heatmap(df.corr(),annot=True)\n"
     ]
    },
    {
     "data": {
      "text/plain": [
       "<AxesSubplot: >"
      ]
     },
     "execution_count": 75,
     "metadata": {},
     "output_type": "execute_result"
    },
    {
     "data": {
      "image/png": "[encoded data removed]",
      "text/plain": [
       "<Figure size 640x480 with 2 Axes>"
      ]
     },
     "metadata": {},
     "output_type": "display_data"
    }
   ],
   "source": [
    "import seaborn as sns\n",
    "sns.heatmap(df.corr(),annot=True)"
   ]
  },
  {
   "cell_type": "markdown",
   "metadata": {
    "id": "VCrE2j2mheFt"
   },
   "source": [
    "#Data Preprocessing"
   ]
  },
  {
   "cell_type": "code",
   "execution_count": 76,
   "metadata": {
    "colab": {
     "base_uri": "https://localhost:8080/"
    },
    "id": "9ZXb69tTiO_E",
    "outputId": "04bdf95c-2f27-4996-88c4-86de8b24cdba"
   },
   "outputs": [
    {
     "name": "stderr",
     "output_type": "stream",
     "text": [
      "[nltk_data] Downloading package stopwords to\n",
      "[nltk_data]     C:\\Users\\ASUS\\AppData\\Roaming\\nltk_data...\n",
      "[nltk_data]   Package stopwords is already up-to-date!\n"
     ]
    },
    {
     "data": {
      "text/plain": [
       "True"
      ]
     },
     "execution_count": 76,
     "metadata": {},
     "output_type": "execute_result"
    }
   ],
   "source": [
    " nltk.download('stopwords')"
   ]
  },
  {
   "cell_type": "code",
   "execution_count": 77,
   "metadata": {
    "colab": {
     "base_uri": "https://localhost:8080/",
     "height": 589
    },
    "id": "mZgBjBZNGkmR",
    "outputId": "1a2d777d-007c-4b0b-ab43-d4f7758cfb90"
   },
   "outputs": [
    {
     "data": {
      "text/html": [
       "<div>\n",
       "<style scoped>\n",
       "    .dataframe tbody tr th:only-of-type {\n",
       "        vertical-align: middle;\n",
       "    }\n",
       "\n",
       "    .dataframe tbody tr th {\n",
       "        vertical-align: top;\n",
       "    }\n",
       "\n",
       "    .dataframe thead th {\n",
       "        text-align: right;\n",
       "    }\n",
       "</style>\n",
       "<table border=\"1\" class=\"dataframe\">\n",
       "  <thead>\n",
       "    <tr style=\"text-align: right;\">\n",
       "      <th></th>\n",
       "      <th>Teks</th>\n",
       "      <th>label</th>\n",
       "      <th>info_label</th>\n",
       "      <th>jumlah_karakter</th>\n",
       "      <th>jumlah_kata</th>\n",
       "      <th>jumlah_kalimat</th>\n",
       "      <th>lower_teks</th>\n",
       "    </tr>\n",
       "  </thead>\n",
       "  <tbody>\n",
       "    <tr>\n",
       "      <th>0</th>\n",
       "      <td>[PROMO] Beli paket Flash mulai 1GB di MY TELKO...</td>\n",
       "      <td>2</td>\n",
       "      <td>SMS Promo</td>\n",
       "      <td>153</td>\n",
       "      <td>32</td>\n",
       "      <td>2</td>\n",
       "      <td>[promo] beli paket flash mulai 1gb di my telko...</td>\n",
       "    </tr>\n",
       "    <tr>\n",
       "      <th>1</th>\n",
       "      <td>2.5 GB/30 hari hanya Rp 35 Ribu Spesial buat A...</td>\n",
       "      <td>2</td>\n",
       "      <td>SMS Promo</td>\n",
       "      <td>152</td>\n",
       "      <td>34</td>\n",
       "      <td>4</td>\n",
       "      <td>2.5 gb/30 hari hanya rp 35 ribu spesial buat a...</td>\n",
       "    </tr>\n",
       "    <tr>\n",
       "      <th>2</th>\n",
       "      <td>2016-07-08 11:47:11.Plg Yth, sisa kuota Flash ...</td>\n",
       "      <td>2</td>\n",
       "      <td>SMS Promo</td>\n",
       "      <td>152</td>\n",
       "      <td>29</td>\n",
       "      <td>2</td>\n",
       "      <td>2016-07-08 11:47:11.plg yth, sisa kuota flash ...</td>\n",
       "    </tr>\n",
       "    <tr>\n",
       "      <th>3</th>\n",
       "      <td>2016-08-07 11:29:47.Plg Yth, sisa kuota Flash ...</td>\n",
       "      <td>2</td>\n",
       "      <td>SMS Promo</td>\n",
       "      <td>153</td>\n",
       "      <td>29</td>\n",
       "      <td>2</td>\n",
       "      <td>2016-08-07 11:29:47.plg yth, sisa kuota flash ...</td>\n",
       "    </tr>\n",
       "    <tr>\n",
       "      <th>4</th>\n",
       "      <td>4.5GB/30 hari hanya Rp 55 Ribu Spesial buat an...</td>\n",
       "      <td>2</td>\n",
       "      <td>SMS Promo</td>\n",
       "      <td>113</td>\n",
       "      <td>25</td>\n",
       "      <td>3</td>\n",
       "      <td>4.5gb/30 hari hanya rp 55 ribu spesial buat an...</td>\n",
       "    </tr>\n",
       "    <tr>\n",
       "      <th>...</th>\n",
       "      <td>...</td>\n",
       "      <td>...</td>\n",
       "      <td>...</td>\n",
       "      <td>...</td>\n",
       "      <td>...</td>\n",
       "      <td>...</td>\n",
       "      <td>...</td>\n",
       "    </tr>\n",
       "    <tr>\n",
       "      <th>1138</th>\n",
       "      <td>Yooo sama2, oke nanti aku umumin di grup kelas</td>\n",
       "      <td>0</td>\n",
       "      <td>SMS Normal</td>\n",
       "      <td>46</td>\n",
       "      <td>10</td>\n",
       "      <td>1</td>\n",
       "      <td>yooo sama2, oke nanti aku umumin di grup kelas</td>\n",
       "    </tr>\n",
       "    <tr>\n",
       "      <th>1139</th>\n",
       "      <td>😁 sebelumnya ga ad nulis kerudung. Kirain warn...</td>\n",
       "      <td>0</td>\n",
       "      <td>SMS Normal</td>\n",
       "      <td>52</td>\n",
       "      <td>10</td>\n",
       "      <td>2</td>\n",
       "      <td>😁 sebelumnya ga ad nulis kerudung. kirain warn...</td>\n",
       "    </tr>\n",
       "    <tr>\n",
       "      <th>1140</th>\n",
       "      <td>Mba mau kirim 300 ya</td>\n",
       "      <td>0</td>\n",
       "      <td>SMS Normal</td>\n",
       "      <td>20</td>\n",
       "      <td>5</td>\n",
       "      <td>1</td>\n",
       "      <td>mba mau kirim 300 ya</td>\n",
       "    </tr>\n",
       "    <tr>\n",
       "      <th>1141</th>\n",
       "      <td>nama1  beaok bwrangkat pagi...mau cas atay tra...</td>\n",
       "      <td>0</td>\n",
       "      <td>SMS Normal</td>\n",
       "      <td>51</td>\n",
       "      <td>10</td>\n",
       "      <td>1</td>\n",
       "      <td>nama1  beaok bwrangkat pagi...mau cas atay tra...</td>\n",
       "    </tr>\n",
       "    <tr>\n",
       "      <th>1142</th>\n",
       "      <td>No bri atas nama kamu mana</td>\n",
       "      <td>0</td>\n",
       "      <td>SMS Normal</td>\n",
       "      <td>26</td>\n",
       "      <td>6</td>\n",
       "      <td>1</td>\n",
       "      <td>no bri atas nama kamu mana</td>\n",
       "    </tr>\n",
       "  </tbody>\n",
       "</table>\n",
       "<p>1142 rows × 7 columns</p>\n",
       "</div>"
      ],
      "text/plain": [
       "                                                   Teks  label  info_label  \\\n",
       "0     [PROMO] Beli paket Flash mulai 1GB di MY TELKO...      2   SMS Promo   \n",
       "1     2.5 GB/30 hari hanya Rp 35 Ribu Spesial buat A...      2   SMS Promo   \n",
       "2     2016-07-08 11:47:11.Plg Yth, sisa kuota Flash ...      2   SMS Promo   \n",
       "3     2016-08-07 11:29:47.Plg Yth, sisa kuota Flash ...      2   SMS Promo   \n",
       "4     4.5GB/30 hari hanya Rp 55 Ribu Spesial buat an...      2   SMS Promo   \n",
       "...                                                 ...    ...         ...   \n",
       "1138     Yooo sama2, oke nanti aku umumin di grup kelas      0  SMS Normal   \n",
       "1139  😁 sebelumnya ga ad nulis kerudung. Kirain warn...      0  SMS Normal   \n",
       "1140                               Mba mau kirim 300 ya      0  SMS Normal   \n",
       "1141  nama1  beaok bwrangkat pagi...mau cas atay tra...      0  SMS Normal   \n",
       "1142                         No bri atas nama kamu mana      0  SMS Normal   \n",
       "\n",
       "      jumlah_karakter  jumlah_kata  jumlah_kalimat  \\\n",
       "0                 153           32               2   \n",
       "1                 152           34               4   \n",
       "2                 152           29               2   \n",
       "3                 153           29               2   \n",
       "4                 113           25               3   \n",
       "...               ...          ...             ...   \n",
       "1138               46           10               1   \n",
       "1139               52           10               2   \n",
       "1140               20            5               1   \n",
       "1141               51           10               1   \n",
       "1142               26            6               1   \n",
       "\n",
       "                                             lower_teks  \n",
       "0     [promo] beli paket flash mulai 1gb di my telko...  \n",
       "1     2.5 gb/30 hari hanya rp 35 ribu spesial buat a...  \n",
       "2     2016-07-08 11:47:11.plg yth, sisa kuota flash ...  \n",
       "3     2016-08-07 11:29:47.plg yth, sisa kuota flash ...  \n",
       "4     4.5gb/30 hari hanya rp 55 ribu spesial buat an...  \n",
       "...                                                 ...  \n",
       "1138     yooo sama2, oke nanti aku umumin di grup kelas  \n",
       "1139  😁 sebelumnya ga ad nulis kerudung. kirain warn...  \n",
       "1140                               mba mau kirim 300 ya  \n",
       "1141  nama1  beaok bwrangkat pagi...mau cas atay tra...  \n",
       "1142                         no bri atas nama kamu mana  \n",
       "\n",
       "[1142 rows x 7 columns]"
      ]
     },
     "execution_count": 77,
     "metadata": {},
     "output_type": "execute_result"
    }
   ],
   "source": [
    "def prepo_text(data):\n",
    "  data = str(data) #mengubah data dalam bentuk string \n",
    "  data = data.lower() #mengubah data menjadi lowercase\n",
    "  return data\n",
    "\n",
    "df['lower_teks'] = df['Teks'].apply(prepo_text)\n",
    "df"
   ]
  },
  {
   "cell_type": "code",
   "execution_count": 78,
   "metadata": {
    "id": "O6lXCrzvhgM5"
   },
   "outputs": [],
   "source": [
    "import re\n",
    "from string import punctuation, digits\n",
    "from nltk.corpus import stopwords\n",
    "from nltk import word_tokenize\n",
    "\n",
    "list_stopwords= set(stopwords.words('indonesian'))\n",
    "def cleaning_text(data):\n",
    "  data= re.sub(f\"[{re.escape(punctuation + digits)}]\", \"\", data) # menghapus punctuation dan angka\n",
    "  data = \" \".join(data.split()) # menghapus extra spasi, tabs, dan baris baru\n",
    "  factory = StemmerFactory()\n",
    "  stemmer = factory.create_stemmer()\n",
    "  data = stemmer.stem(data) #Stemming data with Sastrawi\n",
    "  word_token = word_tokenize(data)\n",
    "  clean_tokens = [w for w in word_token if not w in list_stopwords]  \n",
    "  return clean_tokens"
   ]
  },
  {
   "cell_type": "code",
   "execution_count": 79,
   "metadata": {
    "colab": {
     "base_uri": "https://localhost:8080/",
     "height": 337
    },
    "id": "dx6_W_YHhq1V",
    "outputId": "9b6671a7-3c1f-4b3d-f463-64cedadb24aa"
   },
   "outputs": [
    {
     "data": {
      "text/html": [
       "<div>\n",
       "<style scoped>\n",
       "    .dataframe tbody tr th:only-of-type {\n",
       "        vertical-align: middle;\n",
       "    }\n",
       "\n",
       "    .dataframe tbody tr th {\n",
       "        vertical-align: top;\n",
       "    }\n",
       "\n",
       "    .dataframe thead th {\n",
       "        text-align: right;\n",
       "    }\n",
       "</style>\n",
       "<table border=\"1\" class=\"dataframe\">\n",
       "  <thead>\n",
       "    <tr style=\"text-align: right;\">\n",
       "      <th></th>\n",
       "      <th>Teks</th>\n",
       "      <th>label</th>\n",
       "      <th>info_label</th>\n",
       "      <th>jumlah_karakter</th>\n",
       "      <th>jumlah_kata</th>\n",
       "      <th>jumlah_kalimat</th>\n",
       "      <th>lower_teks</th>\n",
       "      <th>cleaning_teks</th>\n",
       "    </tr>\n",
       "  </thead>\n",
       "  <tbody>\n",
       "    <tr>\n",
       "      <th>0</th>\n",
       "      <td>[PROMO] Beli paket Flash mulai 1GB di MY TELKO...</td>\n",
       "      <td>2</td>\n",
       "      <td>SMS Promo</td>\n",
       "      <td>153</td>\n",
       "      <td>32</td>\n",
       "      <td>2</td>\n",
       "      <td>[promo] beli paket flash mulai 1gb di my telko...</td>\n",
       "      <td>[promo, beli, paket, flash, gb, my, telkomsel,...</td>\n",
       "    </tr>\n",
       "    <tr>\n",
       "      <th>1</th>\n",
       "      <td>2.5 GB/30 hari hanya Rp 35 Ribu Spesial buat A...</td>\n",
       "      <td>2</td>\n",
       "      <td>SMS Promo</td>\n",
       "      <td>152</td>\n",
       "      <td>34</td>\n",
       "      <td>4</td>\n",
       "      <td>2.5 gb/30 hari hanya rp 35 ribu spesial buat a...</td>\n",
       "      <td>[gb, rp, ribu, spesial, pilih, aktif, promo, s...</td>\n",
       "    </tr>\n",
       "    <tr>\n",
       "      <th>2</th>\n",
       "      <td>2016-07-08 11:47:11.Plg Yth, sisa kuota Flash ...</td>\n",
       "      <td>2</td>\n",
       "      <td>SMS Promo</td>\n",
       "      <td>152</td>\n",
       "      <td>29</td>\n",
       "      <td>2</td>\n",
       "      <td>2016-07-08 11:47:11.plg yth, sisa kuota flash ...</td>\n",
       "      <td>[plg, yth, sisa, kuota, flash, kb, download, m...</td>\n",
       "    </tr>\n",
       "    <tr>\n",
       "      <th>3</th>\n",
       "      <td>2016-08-07 11:29:47.Plg Yth, sisa kuota Flash ...</td>\n",
       "      <td>2</td>\n",
       "      <td>SMS Promo</td>\n",
       "      <td>153</td>\n",
       "      <td>29</td>\n",
       "      <td>2</td>\n",
       "      <td>2016-08-07 11:29:47.plg yth, sisa kuota flash ...</td>\n",
       "      <td>[plg, yth, sisa, kuota, flash, kb, download, m...</td>\n",
       "    </tr>\n",
       "    <tr>\n",
       "      <th>4</th>\n",
       "      <td>4.5GB/30 hari hanya Rp 55 Ribu Spesial buat an...</td>\n",
       "      <td>2</td>\n",
       "      <td>SMS Promo</td>\n",
       "      <td>113</td>\n",
       "      <td>25</td>\n",
       "      <td>3</td>\n",
       "      <td>4.5gb/30 hari hanya rp 55 ribu spesial buat an...</td>\n",
       "      <td>[gb, rp, ribu, spesial, pilih, aktif, buru, skb]</td>\n",
       "    </tr>\n",
       "  </tbody>\n",
       "</table>\n",
       "</div>"
      ],
      "text/plain": [
       "                                                Teks  label info_label  \\\n",
       "0  [PROMO] Beli paket Flash mulai 1GB di MY TELKO...      2  SMS Promo   \n",
       "1  2.5 GB/30 hari hanya Rp 35 Ribu Spesial buat A...      2  SMS Promo   \n",
       "2  2016-07-08 11:47:11.Plg Yth, sisa kuota Flash ...      2  SMS Promo   \n",
       "3  2016-08-07 11:29:47.Plg Yth, sisa kuota Flash ...      2  SMS Promo   \n",
       "4  4.5GB/30 hari hanya Rp 55 Ribu Spesial buat an...      2  SMS Promo   \n",
       "\n",
       "   jumlah_karakter  jumlah_kata  jumlah_kalimat  \\\n",
       "0              153           32               2   \n",
       "1              152           34               4   \n",
       "2              152           29               2   \n",
       "3              153           29               2   \n",
       "4              113           25               3   \n",
       "\n",
       "                                          lower_teks  \\\n",
       "0  [promo] beli paket flash mulai 1gb di my telko...   \n",
       "1  2.5 gb/30 hari hanya rp 35 ribu spesial buat a...   \n",
       "2  2016-07-08 11:47:11.plg yth, sisa kuota flash ...   \n",
       "3  2016-08-07 11:29:47.plg yth, sisa kuota flash ...   \n",
       "4  4.5gb/30 hari hanya rp 55 ribu spesial buat an...   \n",
       "\n",
       "                                       cleaning_teks  \n",
       "0  [promo, beli, paket, flash, gb, my, telkomsel,...  \n",
       "1  [gb, rp, ribu, spesial, pilih, aktif, promo, s...  \n",
       "2  [plg, yth, sisa, kuota, flash, kb, download, m...  \n",
       "3  [plg, yth, sisa, kuota, flash, kb, download, m...  \n",
       "4   [gb, rp, ribu, spesial, pilih, aktif, buru, skb]  "
      ]
     },
     "execution_count": 79,
     "metadata": {},
     "output_type": "execute_result"
    }
   ],
   "source": [
    "df['cleaning_teks'] = df['lower_teks'].apply(cleaning_text)\n",
    "df.head()"
   ]
  },
  {
   "cell_type": "markdown",
   "metadata": {
    "id": "s5Ts5W_rqcxf"
   },
   "source": [
    "#Word Embedding"
   ]
  },
  {
   "cell_type": "markdown",
   "metadata": {
    "id": "cTH6gOAvqhDg"
   },
   "source": [
    "##word2vec"
   ]
  },
  {
   "cell_type": "code",
   "execution_count": 80,
   "metadata": {
    "id": "mwvktlbd0Hwm"
   },
   "outputs": [],
   "source": [
    "import gensim\n",
    "from gensim.models import word2vec\n",
    "from gensim.models.word2vec import Word2Vec"
   ]
  },
  {
   "cell_type": "code",
   "execution_count": 81,
   "metadata": {
    "colab": {
     "base_uri": "https://localhost:8080/"
    },
    "id": "97Ou6dj5FUOZ",
    "outputId": "e9576bae-3d9d-4ee4-d975-feb683f3bfee"
   },
   "outputs": [
    {
     "name": "stdout",
     "output_type": "stream",
     "text": [
      "['fasttext-wiki-news-subwords-300', 'conceptnet-numberbatch-17-06-300', 'word2vec-ruscorpora-300', 'word2vec-google-news-300', 'glove-wiki-gigaword-50', 'glove-wiki-gigaword-100', 'glove-wiki-gigaword-200', 'glove-wiki-gigaword-300', 'glove-twitter-25', 'glove-twitter-50', 'glove-twitter-100', 'glove-twitter-200', '__testing_word2vec-matrix-synopsis']\n"
     ]
    }
   ],
   "source": [
    "import gensim.downloader as api\n",
    "print(list(gensim.downloader.info()['models'].keys()))"
   ]
  },
  {
   "cell_type": "code",
   "execution_count": 82,
   "metadata": {
    "colab": {
     "base_uri": "https://localhost:8080/"
    },
    "id": "pGMb25JwFYp2",
    "outputId": "ef265028-dccd-4c27-b146-f05b4c16d705"
   },
   "outputs": [
    {
     "name": "stdout",
     "output_type": "stream",
     "text": [
      "[==================================================] 100.0% 199.5/199.5MB downloaded\n"
     ]
    },
    {
     "data": {
      "text/plain": [
       "gensim.models.keyedvectors.KeyedVectors"
      ]
     },
     "execution_count": 82,
     "metadata": {},
     "output_type": "execute_result"
    }
   ],
   "source": [
    "wv = api.load('glove-twitter-50')\n",
    "type(wv)"
   ]
  },
  {
   "cell_type": "code",
   "execution_count": 83,
   "metadata": {
    "id": "uo20B4PjF1Kl"
   },
   "outputs": [],
   "source": [
    "def sent_vec(sent):\n",
    "    vector_size = wv.vector_size\n",
    "    wv_res = np.zeros(vector_size)\n",
    "    # print(wv_res)\n",
    "    ctr = 1\n",
    "    for w in sent:\n",
    "        if w in wv:\n",
    "            ctr += 1\n",
    "            wv_res += wv[w]\n",
    "    wv_res = wv_res/ctr\n",
    "    return wv_res"
   ]
  },
  {
   "cell_type": "code",
   "execution_count": 84,
   "metadata": {
    "colab": {
     "base_uri": "https://localhost:8080/",
     "height": 424
    },
    "id": "O29zIZKCF7Gz",
    "outputId": "c85bf208-d94a-4c38-e356-e2f070e35266"
   },
   "outputs": [
    {
     "data": {
      "text/html": [
       "<div>\n",
       "<style scoped>\n",
       "    .dataframe tbody tr th:only-of-type {\n",
       "        vertical-align: middle;\n",
       "    }\n",
       "\n",
       "    .dataframe tbody tr th {\n",
       "        vertical-align: top;\n",
       "    }\n",
       "\n",
       "    .dataframe thead th {\n",
       "        text-align: right;\n",
       "    }\n",
       "</style>\n",
       "<table border=\"1\" class=\"dataframe\">\n",
       "  <thead>\n",
       "    <tr style=\"text-align: right;\">\n",
       "      <th></th>\n",
       "      <th>Teks</th>\n",
       "      <th>label</th>\n",
       "      <th>info_label</th>\n",
       "      <th>jumlah_karakter</th>\n",
       "      <th>jumlah_kata</th>\n",
       "      <th>jumlah_kalimat</th>\n",
       "      <th>lower_teks</th>\n",
       "      <th>cleaning_teks</th>\n",
       "      <th>vec</th>\n",
       "    </tr>\n",
       "  </thead>\n",
       "  <tbody>\n",
       "    <tr>\n",
       "      <th>0</th>\n",
       "      <td>[PROMO] Beli paket Flash mulai 1GB di MY TELKO...</td>\n",
       "      <td>2</td>\n",
       "      <td>SMS Promo</td>\n",
       "      <td>153</td>\n",
       "      <td>32</td>\n",
       "      <td>2</td>\n",
       "      <td>[promo] beli paket flash mulai 1gb di my telko...</td>\n",
       "      <td>[promo, beli, paket, flash, gb, my, telkomsel,...</td>\n",
       "      <td>[-0.05610815952531993, 0.3164000459015369, -0....</td>\n",
       "    </tr>\n",
       "    <tr>\n",
       "      <th>1</th>\n",
       "      <td>2.5 GB/30 hari hanya Rp 35 Ribu Spesial buat A...</td>\n",
       "      <td>2</td>\n",
       "      <td>SMS Promo</td>\n",
       "      <td>152</td>\n",
       "      <td>34</td>\n",
       "      <td>4</td>\n",
       "      <td>2.5 gb/30 hari hanya rp 35 ribu spesial buat a...</td>\n",
       "      <td>[gb, rp, ribu, spesial, pilih, aktif, promo, s...</td>\n",
       "      <td>[0.043447997206105635, 0.1518254646888146, -0....</td>\n",
       "    </tr>\n",
       "    <tr>\n",
       "      <th>2</th>\n",
       "      <td>2016-07-08 11:47:11.Plg Yth, sisa kuota Flash ...</td>\n",
       "      <td>2</td>\n",
       "      <td>SMS Promo</td>\n",
       "      <td>152</td>\n",
       "      <td>29</td>\n",
       "      <td>2</td>\n",
       "      <td>2016-07-08 11:47:11.plg yth, sisa kuota flash ...</td>\n",
       "      <td>[plg, yth, sisa, kuota, flash, kb, download, m...</td>\n",
       "      <td>[-0.013731006000723158, 0.31625206981386456, -...</td>\n",
       "    </tr>\n",
       "    <tr>\n",
       "      <th>3</th>\n",
       "      <td>2016-08-07 11:29:47.Plg Yth, sisa kuota Flash ...</td>\n",
       "      <td>2</td>\n",
       "      <td>SMS Promo</td>\n",
       "      <td>153</td>\n",
       "      <td>29</td>\n",
       "      <td>2</td>\n",
       "      <td>2016-08-07 11:29:47.plg yth, sisa kuota flash ...</td>\n",
       "      <td>[plg, yth, sisa, kuota, flash, kb, download, m...</td>\n",
       "      <td>[-0.013731006000723158, 0.31625206981386456, -...</td>\n",
       "    </tr>\n",
       "    <tr>\n",
       "      <th>4</th>\n",
       "      <td>4.5GB/30 hari hanya Rp 55 Ribu Spesial buat an...</td>\n",
       "      <td>2</td>\n",
       "      <td>SMS Promo</td>\n",
       "      <td>113</td>\n",
       "      <td>25</td>\n",
       "      <td>3</td>\n",
       "      <td>4.5gb/30 hari hanya rp 55 ribu spesial buat an...</td>\n",
       "      <td>[gb, rp, ribu, spesial, pilih, aktif, buru, skb]</td>\n",
       "      <td>[-0.03377110635240873, 0.15747900638315412, -0...</td>\n",
       "    </tr>\n",
       "  </tbody>\n",
       "</table>\n",
       "</div>"
      ],
      "text/plain": [
       "                                                Teks  label info_label  \\\n",
       "0  [PROMO] Beli paket Flash mulai 1GB di MY TELKO...      2  SMS Promo   \n",
       "1  2.5 GB/30 hari hanya Rp 35 Ribu Spesial buat A...      2  SMS Promo   \n",
       "2  2016-07-08 11:47:11.Plg Yth, sisa kuota Flash ...      2  SMS Promo   \n",
       "3  2016-08-07 11:29:47.Plg Yth, sisa kuota Flash ...      2  SMS Promo   \n",
       "4  4.5GB/30 hari hanya Rp 55 Ribu Spesial buat an...      2  SMS Promo   \n",
       "\n",
       "   jumlah_karakter  jumlah_kata  jumlah_kalimat  \\\n",
       "0              153           32               2   \n",
       "1              152           34               4   \n",
       "2              152           29               2   \n",
       "3              153           29               2   \n",
       "4              113           25               3   \n",
       "\n",
       "                                          lower_teks  \\\n",
       "0  [promo] beli paket flash mulai 1gb di my telko...   \n",
       "1  2.5 gb/30 hari hanya rp 35 ribu spesial buat a...   \n",
       "2  2016-07-08 11:47:11.plg yth, sisa kuota flash ...   \n",
       "3  2016-08-07 11:29:47.plg yth, sisa kuota flash ...   \n",
       "4  4.5gb/30 hari hanya rp 55 ribu spesial buat an...   \n",
       "\n",
       "                                       cleaning_teks  \\\n",
       "0  [promo, beli, paket, flash, gb, my, telkomsel,...   \n",
       "1  [gb, rp, ribu, spesial, pilih, aktif, promo, s...   \n",
       "2  [plg, yth, sisa, kuota, flash, kb, download, m...   \n",
       "3  [plg, yth, sisa, kuota, flash, kb, download, m...   \n",
       "4   [gb, rp, ribu, spesial, pilih, aktif, buru, skb]   \n",
       "\n",
       "                                                 vec  \n",
       "0  [-0.05610815952531993, 0.3164000459015369, -0....  \n",
       "1  [0.043447997206105635, 0.1518254646888146, -0....  \n",
       "2  [-0.013731006000723158, 0.31625206981386456, -...  \n",
       "3  [-0.013731006000723158, 0.31625206981386456, -...  \n",
       "4  [-0.03377110635240873, 0.15747900638315412, -0...  "
      ]
     },
     "execution_count": 84,
     "metadata": {},
     "output_type": "execute_result"
    }
   ],
   "source": [
    "df['vec'] = df['cleaning_teks'].apply(sent_vec)\n",
    "df.head()"
   ]
  },
  {
   "cell_type": "code",
   "execution_count": 85,
   "metadata": {
    "id": "D8NNthuDJzA9"
   },
   "outputs": [],
   "source": [
    "X = df['vec'].to_list()\n",
    "y = df['label'].values"
   ]
  },
  {
   "cell_type": "code",
   "execution_count": 86,
   "metadata": {
    "id": "T7lAxifbJ8KI"
   },
   "outputs": [],
   "source": [
    "from sklearn.model_selection import train_test_split\n",
    "X_train,X_test,y_train,y_test = train_test_split(X,y,test_size=0.2,random_state=2)"
   ]
  },
  {
   "cell_type": "code",
   "execution_count": 87,
   "metadata": {
    "id": "-Qj482AWMWp3"
   },
   "outputs": [],
   "source": [
    "from sklearn.preprocessing import MinMaxScaler #Scaling Data\n",
    "\n",
    "scaler = MinMaxScaler()\n",
    "X_train = scaler.fit_transform(X_train)\n",
    "X_test = scaler.transform(X_test)"
   ]
  },
  {
   "cell_type": "markdown",
   "metadata": {
    "id": "oKwS1AXFNJBg"
   },
   "source": [
    "## Modelling"
   ]
  },
  {
   "cell_type": "code",
   "execution_count": 88,
   "metadata": {
    "id": "NXOjUsJYKTWc"
   },
   "outputs": [],
   "source": [
    "from sklearn.naive_bayes import MultinomialNB\n",
    "from sklearn.metrics import accuracy_score,confusion_matrix,classification_report,precision_score"
   ]
  },
  {
   "cell_type": "code",
   "execution_count": 89,
   "metadata": {
    "colab": {
     "base_uri": "https://localhost:8080/"
    },
    "id": "Bb4aXutqKo4F",
    "outputId": "77d6ddc8-4e49-4934-f1ef-770eee996d57"
   },
   "outputs": [
    {
     "name": "stdout",
     "output_type": "stream",
     "text": [
      "[[115   4   0]\n",
      " [ 33  35   0]\n",
      " [ 25  14   3]]\n",
      "              precision    recall  f1-score   support\n",
      "\n",
      "           0       0.66      0.97      0.79       119\n",
      "           1       0.66      0.51      0.58        68\n",
      "           2       1.00      0.07      0.13        42\n",
      "\n",
      "    accuracy                           0.67       229\n",
      "   macro avg       0.78      0.52      0.50       229\n",
      "weighted avg       0.72      0.67      0.61       229\n",
      "\n",
      "Accuracy Score:  0.6681222707423581\n"
     ]
    }
   ],
   "source": [
    "mnb = MultinomialNB()\n",
    "mnb.fit(X_train,y_train)\n",
    "y_pred = mnb.predict(X_test)\n",
    "print(confusion_matrix(y_test,y_pred))\n",
    "print(classification_report(y_test,y_pred))\n",
    "print('Accuracy Score: ', accuracy_score(y_test,y_pred))"
   ]
  },
  {
   "cell_type": "markdown",
   "metadata": {
    "id": "9wVm4wiREy3j"
   },
   "source": [
    "# TF-IDF"
   ]
  },
  {
   "cell_type": "code",
   "execution_count": 90,
   "metadata": {
    "colab": {
     "base_uri": "https://localhost:8080/",
     "height": 423
    },
    "id": "q1Jh4gWBPD1-",
    "outputId": "cc268274-1321-4119-9922-544670c95eef"
   },
   "outputs": [
    {
     "data": {
      "text/html": [
       "<div>\n",
       "<style scoped>\n",
       "    .dataframe tbody tr th:only-of-type {\n",
       "        vertical-align: middle;\n",
       "    }\n",
       "\n",
       "    .dataframe tbody tr th {\n",
       "        vertical-align: top;\n",
       "    }\n",
       "\n",
       "    .dataframe thead th {\n",
       "        text-align: right;\n",
       "    }\n",
       "</style>\n",
       "<table border=\"1\" class=\"dataframe\">\n",
       "  <thead>\n",
       "    <tr style=\"text-align: right;\">\n",
       "      <th></th>\n",
       "      <th>Teks</th>\n",
       "      <th>label</th>\n",
       "      <th>info_label</th>\n",
       "      <th>jumlah_karakter</th>\n",
       "      <th>jumlah_kata</th>\n",
       "      <th>jumlah_kalimat</th>\n",
       "      <th>lower_teks</th>\n",
       "      <th>cleaning_teks</th>\n",
       "      <th>vec</th>\n",
       "      <th>clean</th>\n",
       "    </tr>\n",
       "  </thead>\n",
       "  <tbody>\n",
       "    <tr>\n",
       "      <th>0</th>\n",
       "      <td>[PROMO] Beli paket Flash mulai 1GB di MY TELKO...</td>\n",
       "      <td>2</td>\n",
       "      <td>SMS Promo</td>\n",
       "      <td>153</td>\n",
       "      <td>32</td>\n",
       "      <td>2</td>\n",
       "      <td>[promo] beli paket flash mulai 1gb di my telko...</td>\n",
       "      <td>[promo, beli, paket, flash, gb, my, telkomsel,...</td>\n",
       "      <td>[-0.05610815952531993, 0.3164000459015369, -0....</td>\n",
       "      <td>[promo] beli paket flash mulai 1gb di my telko...</td>\n",
       "    </tr>\n",
       "    <tr>\n",
       "      <th>1</th>\n",
       "      <td>2.5 GB/30 hari hanya Rp 35 Ribu Spesial buat A...</td>\n",
       "      <td>2</td>\n",
       "      <td>SMS Promo</td>\n",
       "      <td>152</td>\n",
       "      <td>34</td>\n",
       "      <td>4</td>\n",
       "      <td>2.5 gb/30 hari hanya rp 35 ribu spesial buat a...</td>\n",
       "      <td>[gb, rp, ribu, spesial, pilih, aktif, promo, s...</td>\n",
       "      <td>[0.043447997206105635, 0.1518254646888146, -0....</td>\n",
       "      <td>2.5 gb/30 hari hanya rp 35 ribu spesial buat a...</td>\n",
       "    </tr>\n",
       "    <tr>\n",
       "      <th>2</th>\n",
       "      <td>2016-07-08 11:47:11.Plg Yth, sisa kuota Flash ...</td>\n",
       "      <td>2</td>\n",
       "      <td>SMS Promo</td>\n",
       "      <td>152</td>\n",
       "      <td>29</td>\n",
       "      <td>2</td>\n",
       "      <td>2016-07-08 11:47:11.plg yth, sisa kuota flash ...</td>\n",
       "      <td>[plg, yth, sisa, kuota, flash, kb, download, m...</td>\n",
       "      <td>[-0.013731006000723158, 0.31625206981386456, -...</td>\n",
       "      <td>2016-07-08 11:47:11.plg yth, sisa kuota flash ...</td>\n",
       "    </tr>\n",
       "    <tr>\n",
       "      <th>3</th>\n",
       "      <td>2016-08-07 11:29:47.Plg Yth, sisa kuota Flash ...</td>\n",
       "      <td>2</td>\n",
       "      <td>SMS Promo</td>\n",
       "      <td>153</td>\n",
       "      <td>29</td>\n",
       "      <td>2</td>\n",
       "      <td>2016-08-07 11:29:47.plg yth, sisa kuota flash ...</td>\n",
       "      <td>[plg, yth, sisa, kuota, flash, kb, download, m...</td>\n",
       "      <td>[-0.013731006000723158, 0.31625206981386456, -...</td>\n",
       "      <td>2016-08-07 11:29:47.plg yth, sisa kuota flash ...</td>\n",
       "    </tr>\n",
       "    <tr>\n",
       "      <th>4</th>\n",
       "      <td>4.5GB/30 hari hanya Rp 55 Ribu Spesial buat an...</td>\n",
       "      <td>2</td>\n",
       "      <td>SMS Promo</td>\n",
       "      <td>113</td>\n",
       "      <td>25</td>\n",
       "      <td>3</td>\n",
       "      <td>4.5gb/30 hari hanya rp 55 ribu spesial buat an...</td>\n",
       "      <td>[gb, rp, ribu, spesial, pilih, aktif, buru, skb]</td>\n",
       "      <td>[-0.03377110635240873, 0.15747900638315412, -0...</td>\n",
       "      <td>4.5gb/30 hari hanya rp 55 ribu spesial buat an...</td>\n",
       "    </tr>\n",
       "    <tr>\n",
       "      <th>...</th>\n",
       "      <td>...</td>\n",
       "      <td>...</td>\n",
       "      <td>...</td>\n",
       "      <td>...</td>\n",
       "      <td>...</td>\n",
       "      <td>...</td>\n",
       "      <td>...</td>\n",
       "      <td>...</td>\n",
       "      <td>...</td>\n",
       "      <td>...</td>\n",
       "    </tr>\n",
       "    <tr>\n",
       "      <th>1138</th>\n",
       "      <td>Yooo sama2, oke nanti aku umumin di grup kelas</td>\n",
       "      <td>0</td>\n",
       "      <td>SMS Normal</td>\n",
       "      <td>46</td>\n",
       "      <td>10</td>\n",
       "      <td>1</td>\n",
       "      <td>yooo sama2, oke nanti aku umumin di grup kelas</td>\n",
       "      <td>[yooo, oke, umumin, grup, kelas]</td>\n",
       "      <td>[0.2739500068128109, 0.6180158331990242, -0.02...</td>\n",
       "      <td>yooo sama2, oke nanti aku umumin di grup kelas</td>\n",
       "    </tr>\n",
       "    <tr>\n",
       "      <th>1139</th>\n",
       "      <td>😁 sebelumnya ga ad nulis kerudung. Kirain warn...</td>\n",
       "      <td>0</td>\n",
       "      <td>SMS Normal</td>\n",
       "      <td>52</td>\n",
       "      <td>10</td>\n",
       "      <td>2</td>\n",
       "      <td>😁 sebelumnya ga ad nulis kerudung. kirain warn...</td>\n",
       "      <td>[ga, ad, nulis, kerudung, kirain, warna, jins]</td>\n",
       "      <td>[-0.08586375415325165, 0.1264049932360649, 0.0...</td>\n",
       "      <td>😁 sebelumnya ga ad nulis kerudung. kirain warn...</td>\n",
       "    </tr>\n",
       "    <tr>\n",
       "      <th>1140</th>\n",
       "      <td>Mba mau kirim 300 ya</td>\n",
       "      <td>0</td>\n",
       "      <td>SMS Normal</td>\n",
       "      <td>20</td>\n",
       "      <td>5</td>\n",
       "      <td>1</td>\n",
       "      <td>mba mau kirim 300 ya</td>\n",
       "      <td>[mba, kirim, ya]</td>\n",
       "      <td>[-0.008954998105764389, 0.8530749976634979, -0...</td>\n",
       "      <td>mba mau kirim 300 ya</td>\n",
       "    </tr>\n",
       "    <tr>\n",
       "      <th>1141</th>\n",
       "      <td>nama1  beaok bwrangkat pagi...mau cas atay tra...</td>\n",
       "      <td>0</td>\n",
       "      <td>SMS Normal</td>\n",
       "      <td>51</td>\n",
       "      <td>10</td>\n",
       "      <td>1</td>\n",
       "      <td>nama1  beaok bwrangkat pagi...mau cas atay tra...</td>\n",
       "      <td>[nama, beaok, bwrangkat, pagimau, cas, atay, t...</td>\n",
       "      <td>[0.04643450273821751, 0.334409994383653, -0.08...</td>\n",
       "      <td>nama1  beaok bwrangkat pagi...mau cas atay tra...</td>\n",
       "    </tr>\n",
       "    <tr>\n",
       "      <th>1142</th>\n",
       "      <td>No bri atas nama kamu mana</td>\n",
       "      <td>0</td>\n",
       "      <td>SMS Normal</td>\n",
       "      <td>26</td>\n",
       "      <td>6</td>\n",
       "      <td>1</td>\n",
       "      <td>no bri atas nama kamu mana</td>\n",
       "      <td>[no, bri, nama]</td>\n",
       "      <td>[0.10074920090846717, 0.38260750100016594, -0....</td>\n",
       "      <td>no bri atas nama kamu mana</td>\n",
       "    </tr>\n",
       "  </tbody>\n",
       "</table>\n",
       "<p>1142 rows × 10 columns</p>\n",
       "</div>"
      ],
      "text/plain": [
       "                                                   Teks  label  info_label  \\\n",
       "0     [PROMO] Beli paket Flash mulai 1GB di MY TELKO...      2   SMS Promo   \n",
       "1     2.5 GB/30 hari hanya Rp 35 Ribu Spesial buat A...      2   SMS Promo   \n",
       "2     2016-07-08 11:47:11.Plg Yth, sisa kuota Flash ...      2   SMS Promo   \n",
       "3     2016-08-07 11:29:47.Plg Yth, sisa kuota Flash ...      2   SMS Promo   \n",
       "4     4.5GB/30 hari hanya Rp 55 Ribu Spesial buat an...      2   SMS Promo   \n",
       "...                                                 ...    ...         ...   \n",
       "1138     Yooo sama2, oke nanti aku umumin di grup kelas      0  SMS Normal   \n",
       "1139  😁 sebelumnya ga ad nulis kerudung. Kirain warn...      0  SMS Normal   \n",
       "1140                               Mba mau kirim 300 ya      0  SMS Normal   \n",
       "1141  nama1  beaok bwrangkat pagi...mau cas atay tra...      0  SMS Normal   \n",
       "1142                         No bri atas nama kamu mana      0  SMS Normal   \n",
       "\n",
       "      jumlah_karakter  jumlah_kata  jumlah_kalimat  \\\n",
       "0                 153           32               2   \n",
       "1                 152           34               4   \n",
       "2                 152           29               2   \n",
       "3                 153           29               2   \n",
       "4                 113           25               3   \n",
       "...               ...          ...             ...   \n",
       "1138               46           10               1   \n",
       "1139               52           10               2   \n",
       "1140               20            5               1   \n",
       "1141               51           10               1   \n",
       "1142               26            6               1   \n",
       "\n",
       "                                             lower_teks  \\\n",
       "0     [promo] beli paket flash mulai 1gb di my telko...   \n",
       "1     2.5 gb/30 hari hanya rp 35 ribu spesial buat a...   \n",
       "2     2016-07-08 11:47:11.plg yth, sisa kuota flash ...   \n",
       "3     2016-08-07 11:29:47.plg yth, sisa kuota flash ...   \n",
       "4     4.5gb/30 hari hanya rp 55 ribu spesial buat an...   \n",
       "...                                                 ...   \n",
       "1138     yooo sama2, oke nanti aku umumin di grup kelas   \n",
       "1139  😁 sebelumnya ga ad nulis kerudung. kirain warn...   \n",
       "1140                               mba mau kirim 300 ya   \n",
       "1141  nama1  beaok bwrangkat pagi...mau cas atay tra...   \n",
       "1142                         no bri atas nama kamu mana   \n",
       "\n",
       "                                          cleaning_teks  \\\n",
       "0     [promo, beli, paket, flash, gb, my, telkomsel,...   \n",
       "1     [gb, rp, ribu, spesial, pilih, aktif, promo, s...   \n",
       "2     [plg, yth, sisa, kuota, flash, kb, download, m...   \n",
       "3     [plg, yth, sisa, kuota, flash, kb, download, m...   \n",
       "4      [gb, rp, ribu, spesial, pilih, aktif, buru, skb]   \n",
       "...                                                 ...   \n",
       "1138                   [yooo, oke, umumin, grup, kelas]   \n",
       "1139     [ga, ad, nulis, kerudung, kirain, warna, jins]   \n",
       "1140                                   [mba, kirim, ya]   \n",
       "1141  [nama, beaok, bwrangkat, pagimau, cas, atay, t...   \n",
       "1142                                    [no, bri, nama]   \n",
       "\n",
       "                                                    vec  \\\n",
       "0     [-0.05610815952531993, 0.3164000459015369, -0....   \n",
       "1     [0.043447997206105635, 0.1518254646888146, -0....   \n",
       "2     [-0.013731006000723158, 0.31625206981386456, -...   \n",
       "3     [-0.013731006000723158, 0.31625206981386456, -...   \n",
       "4     [-0.03377110635240873, 0.15747900638315412, -0...   \n",
       "...                                                 ...   \n",
       "1138  [0.2739500068128109, 0.6180158331990242, -0.02...   \n",
       "1139  [-0.08586375415325165, 0.1264049932360649, 0.0...   \n",
       "1140  [-0.008954998105764389, 0.8530749976634979, -0...   \n",
       "1141  [0.04643450273821751, 0.334409994383653, -0.08...   \n",
       "1142  [0.10074920090846717, 0.38260750100016594, -0....   \n",
       "\n",
       "                                                  clean  \n",
       "0     [promo] beli paket flash mulai 1gb di my telko...  \n",
       "1     2.5 gb/30 hari hanya rp 35 ribu spesial buat a...  \n",
       "2     2016-07-08 11:47:11.plg yth, sisa kuota flash ...  \n",
       "3     2016-08-07 11:29:47.plg yth, sisa kuota flash ...  \n",
       "4     4.5gb/30 hari hanya rp 55 ribu spesial buat an...  \n",
       "...                                                 ...  \n",
       "1138     yooo sama2, oke nanti aku umumin di grup kelas  \n",
       "1139  😁 sebelumnya ga ad nulis kerudung. kirain warn...  \n",
       "1140                               mba mau kirim 300 ya  \n",
       "1141  nama1  beaok bwrangkat pagi...mau cas atay tra...  \n",
       "1142                         no bri atas nama kamu mana  \n",
       "\n",
       "[1142 rows x 10 columns]"
      ]
     },
     "execution_count": 90,
     "metadata": {},
     "output_type": "execute_result"
    }
   ],
   "source": [
    "def prepo_text(data):\n",
    "  data = str(data) #mengubah data dalam bentuk string \n",
    "  data = data.lower() #mengubah data menjadi lowercase\n",
    "  return data\n",
    "\n",
    "df['clean'] = df['Teks'].apply(prepo_text)\n",
    "df"
   ]
  },
  {
   "cell_type": "code",
   "execution_count": 91,
   "metadata": {
    "colab": {
     "base_uri": "https://localhost:8080/",
     "height": 423
    },
    "id": "S6qCEnpKPR02",
    "outputId": "281bf791-fd27-45e0-f969-e158d0d6d7d8"
   },
   "outputs": [
    {
     "data": {
      "text/html": [
       "<div>\n",
       "<style scoped>\n",
       "    .dataframe tbody tr th:only-of-type {\n",
       "        vertical-align: middle;\n",
       "    }\n",
       "\n",
       "    .dataframe tbody tr th {\n",
       "        vertical-align: top;\n",
       "    }\n",
       "\n",
       "    .dataframe thead th {\n",
       "        text-align: right;\n",
       "    }\n",
       "</style>\n",
       "<table border=\"1\" class=\"dataframe\">\n",
       "  <thead>\n",
       "    <tr style=\"text-align: right;\">\n",
       "      <th></th>\n",
       "      <th>Teks</th>\n",
       "      <th>label</th>\n",
       "      <th>info_label</th>\n",
       "      <th>jumlah_karakter</th>\n",
       "      <th>jumlah_kata</th>\n",
       "      <th>jumlah_kalimat</th>\n",
       "      <th>lower_teks</th>\n",
       "      <th>cleaning_teks</th>\n",
       "      <th>vec</th>\n",
       "      <th>clean</th>\n",
       "    </tr>\n",
       "  </thead>\n",
       "  <tbody>\n",
       "    <tr>\n",
       "      <th>0</th>\n",
       "      <td>[PROMO] Beli paket Flash mulai 1GB di MY TELKO...</td>\n",
       "      <td>2</td>\n",
       "      <td>SMS Promo</td>\n",
       "      <td>153</td>\n",
       "      <td>32</td>\n",
       "      <td>2</td>\n",
       "      <td>[promo] beli paket flash mulai 1gb di my telko...</td>\n",
       "      <td>[promo, beli, paket, flash, gb, my, telkomsel,...</td>\n",
       "      <td>[-0.05610815952531993, 0.3164000459015369, -0....</td>\n",
       "      <td>promo beli paket flash gb my telkomsel app dpt...</td>\n",
       "    </tr>\n",
       "    <tr>\n",
       "      <th>1</th>\n",
       "      <td>2.5 GB/30 hari hanya Rp 35 Ribu Spesial buat A...</td>\n",
       "      <td>2</td>\n",
       "      <td>SMS Promo</td>\n",
       "      <td>152</td>\n",
       "      <td>34</td>\n",
       "      <td>4</td>\n",
       "      <td>2.5 gb/30 hari hanya rp 35 ribu spesial buat a...</td>\n",
       "      <td>[gb, rp, ribu, spesial, pilih, aktif, promo, s...</td>\n",
       "      <td>[0.043447997206105635, 0.1518254646888146, -0....</td>\n",
       "      <td>gb rp ribu spesial pilih aktif promo sd nov bu...</td>\n",
       "    </tr>\n",
       "    <tr>\n",
       "      <th>2</th>\n",
       "      <td>2016-07-08 11:47:11.Plg Yth, sisa kuota Flash ...</td>\n",
       "      <td>2</td>\n",
       "      <td>SMS Promo</td>\n",
       "      <td>152</td>\n",
       "      <td>29</td>\n",
       "      <td>2</td>\n",
       "      <td>2016-07-08 11:47:11.plg yth, sisa kuota flash ...</td>\n",
       "      <td>[plg, yth, sisa, kuota, flash, kb, download, m...</td>\n",
       "      <td>[-0.013731006000723158, 0.31625206981386456, -...</td>\n",
       "      <td>plg yth sisa kuota flash kb download mytelkoms...</td>\n",
       "    </tr>\n",
       "    <tr>\n",
       "      <th>3</th>\n",
       "      <td>2016-08-07 11:29:47.Plg Yth, sisa kuota Flash ...</td>\n",
       "      <td>2</td>\n",
       "      <td>SMS Promo</td>\n",
       "      <td>153</td>\n",
       "      <td>29</td>\n",
       "      <td>2</td>\n",
       "      <td>2016-08-07 11:29:47.plg yth, sisa kuota flash ...</td>\n",
       "      <td>[plg, yth, sisa, kuota, flash, kb, download, m...</td>\n",
       "      <td>[-0.013731006000723158, 0.31625206981386456, -...</td>\n",
       "      <td>plg yth sisa kuota flash kb download mytelkoms...</td>\n",
       "    </tr>\n",
       "    <tr>\n",
       "      <th>4</th>\n",
       "      <td>4.5GB/30 hari hanya Rp 55 Ribu Spesial buat an...</td>\n",
       "      <td>2</td>\n",
       "      <td>SMS Promo</td>\n",
       "      <td>113</td>\n",
       "      <td>25</td>\n",
       "      <td>3</td>\n",
       "      <td>4.5gb/30 hari hanya rp 55 ribu spesial buat an...</td>\n",
       "      <td>[gb, rp, ribu, spesial, pilih, aktif, buru, skb]</td>\n",
       "      <td>[-0.03377110635240873, 0.15747900638315412, -0...</td>\n",
       "      <td>gb rp ribu spesial pilih aktif buru skb</td>\n",
       "    </tr>\n",
       "    <tr>\n",
       "      <th>...</th>\n",
       "      <td>...</td>\n",
       "      <td>...</td>\n",
       "      <td>...</td>\n",
       "      <td>...</td>\n",
       "      <td>...</td>\n",
       "      <td>...</td>\n",
       "      <td>...</td>\n",
       "      <td>...</td>\n",
       "      <td>...</td>\n",
       "      <td>...</td>\n",
       "    </tr>\n",
       "    <tr>\n",
       "      <th>1138</th>\n",
       "      <td>Yooo sama2, oke nanti aku umumin di grup kelas</td>\n",
       "      <td>0</td>\n",
       "      <td>SMS Normal</td>\n",
       "      <td>46</td>\n",
       "      <td>10</td>\n",
       "      <td>1</td>\n",
       "      <td>yooo sama2, oke nanti aku umumin di grup kelas</td>\n",
       "      <td>[yooo, oke, umumin, grup, kelas]</td>\n",
       "      <td>[0.2739500068128109, 0.6180158331990242, -0.02...</td>\n",
       "      <td>yooo oke umumin grup kelas</td>\n",
       "    </tr>\n",
       "    <tr>\n",
       "      <th>1139</th>\n",
       "      <td>😁 sebelumnya ga ad nulis kerudung. Kirain warn...</td>\n",
       "      <td>0</td>\n",
       "      <td>SMS Normal</td>\n",
       "      <td>52</td>\n",
       "      <td>10</td>\n",
       "      <td>2</td>\n",
       "      <td>😁 sebelumnya ga ad nulis kerudung. kirain warn...</td>\n",
       "      <td>[ga, ad, nulis, kerudung, kirain, warna, jins]</td>\n",
       "      <td>[-0.08586375415325165, 0.1264049932360649, 0.0...</td>\n",
       "      <td>ga ad nulis kerudung kirain warna jins</td>\n",
       "    </tr>\n",
       "    <tr>\n",
       "      <th>1140</th>\n",
       "      <td>Mba mau kirim 300 ya</td>\n",
       "      <td>0</td>\n",
       "      <td>SMS Normal</td>\n",
       "      <td>20</td>\n",
       "      <td>5</td>\n",
       "      <td>1</td>\n",
       "      <td>mba mau kirim 300 ya</td>\n",
       "      <td>[mba, kirim, ya]</td>\n",
       "      <td>[-0.008954998105764389, 0.8530749976634979, -0...</td>\n",
       "      <td>mba kirim ya</td>\n",
       "    </tr>\n",
       "    <tr>\n",
       "      <th>1141</th>\n",
       "      <td>nama1  beaok bwrangkat pagi...mau cas atay tra...</td>\n",
       "      <td>0</td>\n",
       "      <td>SMS Normal</td>\n",
       "      <td>51</td>\n",
       "      <td>10</td>\n",
       "      <td>1</td>\n",
       "      <td>nama1  beaok bwrangkat pagi...mau cas atay tra...</td>\n",
       "      <td>[nama, beaok, bwrangkat, pagimau, cas, atay, t...</td>\n",
       "      <td>[0.04643450273821751, 0.334409994383653, -0.08...</td>\n",
       "      <td>nama beaok bwrangkat pagimau cas atay tranfer</td>\n",
       "    </tr>\n",
       "    <tr>\n",
       "      <th>1142</th>\n",
       "      <td>No bri atas nama kamu mana</td>\n",
       "      <td>0</td>\n",
       "      <td>SMS Normal</td>\n",
       "      <td>26</td>\n",
       "      <td>6</td>\n",
       "      <td>1</td>\n",
       "      <td>no bri atas nama kamu mana</td>\n",
       "      <td>[no, bri, nama]</td>\n",
       "      <td>[0.10074920090846717, 0.38260750100016594, -0....</td>\n",
       "      <td>no bri nama</td>\n",
       "    </tr>\n",
       "  </tbody>\n",
       "</table>\n",
       "<p>1142 rows × 10 columns</p>\n",
       "</div>"
      ],
      "text/plain": [
       "                                                   Teks  label  info_label  \\\n",
       "0     [PROMO] Beli paket Flash mulai 1GB di MY TELKO...      2   SMS Promo   \n",
       "1     2.5 GB/30 hari hanya Rp 35 Ribu Spesial buat A...      2   SMS Promo   \n",
       "2     2016-07-08 11:47:11.Plg Yth, sisa kuota Flash ...      2   SMS Promo   \n",
       "3     2016-08-07 11:29:47.Plg Yth, sisa kuota Flash ...      2   SMS Promo   \n",
       "4     4.5GB/30 hari hanya Rp 55 Ribu Spesial buat an...      2   SMS Promo   \n",
       "...                                                 ...    ...         ...   \n",
       "1138     Yooo sama2, oke nanti aku umumin di grup kelas      0  SMS Normal   \n",
       "1139  😁 sebelumnya ga ad nulis kerudung. Kirain warn...      0  SMS Normal   \n",
       "1140                               Mba mau kirim 300 ya      0  SMS Normal   \n",
       "1141  nama1  beaok bwrangkat pagi...mau cas atay tra...      0  SMS Normal   \n",
       "1142                         No bri atas nama kamu mana      0  SMS Normal   \n",
       "\n",
       "      jumlah_karakter  jumlah_kata  jumlah_kalimat  \\\n",
       "0                 153           32               2   \n",
       "1                 152           34               4   \n",
       "2                 152           29               2   \n",
       "3                 153           29               2   \n",
       "4                 113           25               3   \n",
       "...               ...          ...             ...   \n",
       "1138               46           10               1   \n",
       "1139               52           10               2   \n",
       "1140               20            5               1   \n",
       "1141               51           10               1   \n",
       "1142               26            6               1   \n",
       "\n",
       "                                             lower_teks  \\\n",
       "0     [promo] beli paket flash mulai 1gb di my telko...   \n",
       "1     2.5 gb/30 hari hanya rp 35 ribu spesial buat a...   \n",
       "2     2016-07-08 11:47:11.plg yth, sisa kuota flash ...   \n",
       "3     2016-08-07 11:29:47.plg yth, sisa kuota flash ...   \n",
       "4     4.5gb/30 hari hanya rp 55 ribu spesial buat an...   \n",
       "...                                                 ...   \n",
       "1138     yooo sama2, oke nanti aku umumin di grup kelas   \n",
       "1139  😁 sebelumnya ga ad nulis kerudung. kirain warn...   \n",
       "1140                               mba mau kirim 300 ya   \n",
       "1141  nama1  beaok bwrangkat pagi...mau cas atay tra...   \n",
       "1142                         no bri atas nama kamu mana   \n",
       "\n",
       "                                          cleaning_teks  \\\n",
       "0     [promo, beli, paket, flash, gb, my, telkomsel,...   \n",
       "1     [gb, rp, ribu, spesial, pilih, aktif, promo, s...   \n",
       "2     [plg, yth, sisa, kuota, flash, kb, download, m...   \n",
       "3     [plg, yth, sisa, kuota, flash, kb, download, m...   \n",
       "4      [gb, rp, ribu, spesial, pilih, aktif, buru, skb]   \n",
       "...                                                 ...   \n",
       "1138                   [yooo, oke, umumin, grup, kelas]   \n",
       "1139     [ga, ad, nulis, kerudung, kirain, warna, jins]   \n",
       "1140                                   [mba, kirim, ya]   \n",
       "1141  [nama, beaok, bwrangkat, pagimau, cas, atay, t...   \n",
       "1142                                    [no, bri, nama]   \n",
       "\n",
       "                                                    vec  \\\n",
       "0     [-0.05610815952531993, 0.3164000459015369, -0....   \n",
       "1     [0.043447997206105635, 0.1518254646888146, -0....   \n",
       "2     [-0.013731006000723158, 0.31625206981386456, -...   \n",
       "3     [-0.013731006000723158, 0.31625206981386456, -...   \n",
       "4     [-0.03377110635240873, 0.15747900638315412, -0...   \n",
       "...                                                 ...   \n",
       "1138  [0.2739500068128109, 0.6180158331990242, -0.02...   \n",
       "1139  [-0.08586375415325165, 0.1264049932360649, 0.0...   \n",
       "1140  [-0.008954998105764389, 0.8530749976634979, -0...   \n",
       "1141  [0.04643450273821751, 0.334409994383653, -0.08...   \n",
       "1142  [0.10074920090846717, 0.38260750100016594, -0....   \n",
       "\n",
       "                                                  clean  \n",
       "0     promo beli paket flash gb my telkomsel app dpt...  \n",
       "1     gb rp ribu spesial pilih aktif promo sd nov bu...  \n",
       "2     plg yth sisa kuota flash kb download mytelkoms...  \n",
       "3     plg yth sisa kuota flash kb download mytelkoms...  \n",
       "4               gb rp ribu spesial pilih aktif buru skb  \n",
       "...                                                 ...  \n",
       "1138                         yooo oke umumin grup kelas  \n",
       "1139             ga ad nulis kerudung kirain warna jins  \n",
       "1140                                       mba kirim ya  \n",
       "1141      nama beaok bwrangkat pagimau cas atay tranfer  \n",
       "1142                                        no bri nama  \n",
       "\n",
       "[1142 rows x 10 columns]"
      ]
     },
     "execution_count": 91,
     "metadata": {},
     "output_type": "execute_result"
    }
   ],
   "source": [
    "import re\n",
    "from string import punctuation, digits\n",
    "from nltk.corpus import stopwords\n",
    "from nltk import word_tokenize\n",
    "\n",
    "list_stopwords= set(stopwords.words('indonesian'))\n",
    "def cleaning_text(data):\n",
    "  data= re.sub(f\"[{re.escape(punctuation + digits)}]\", \"\", data) # menghapus punctuation dan angka\n",
    "  data = \" \".join(data.split()) # menghapus extra spasi, tabs, dan baris baru\n",
    "  factory = StemmerFactory()\n",
    "  stemmer = factory.create_stemmer()\n",
    "  data = stemmer.stem(data) #Stemming data with Sastrawi\n",
    "  word_token = word_tokenize(data)\n",
    "  clean_tokens = [w for w in word_token if not w in list_stopwords]  \n",
    "  return clean_tokens\n",
    "\n",
    "df['clean'] = df['clean'].apply(cleaning_text)\n",
    "df['clean'] = df['clean'].apply(' '.join) #menghilangkan list\n",
    "df"
   ]
  },
  {
   "cell_type": "code",
   "execution_count": 92,
   "metadata": {
    "id": "hlF6SFwtKZR7"
   },
   "outputs": [],
   "source": [
    "from sklearn.feature_extraction.text import TfidfVectorizer\n",
    "vectorizer = TfidfVectorizer(sublinear_tf=True, min_df = 5, max_df = 0.95)\n",
    "X_stem = vectorizer.fit_transform(df['clean'])"
   ]
  },
  {
   "cell_type": "code",
   "execution_count": 93,
   "metadata": {
    "id": "iPbQ2tzULcmw"
   },
   "outputs": [],
   "source": [
    "#split data menjadi data train dan data test\n",
    "y = df['label'] \n",
    "X_train_stem, X_test_stem, Y_train_stem, Y_test_stem =train_test_split(X_stem,y, test_size = 0.2, random_state = 0, stratify = y)"
   ]
  },
  {
   "cell_type": "markdown",
   "metadata": {
    "id": "G0YArPt_OymP"
   },
   "source": [
    "## Modelling"
   ]
  },
  {
   "cell_type": "code",
   "execution_count": 102,
   "metadata": {},
   "outputs": [
    {
     "data": {
      "text/html": [
       "<style>#sk-container-id-2 {color: black;background-color: white;}#sk-container-id-2 pre{padding: 0;}#sk-container-id-2 div.sk-toggleable {background-color: white;}#sk-container-id-2 label.sk-toggleable__label {cursor: pointer;display: block;width: 100%;margin-bottom: 0;padding: 0.3em;box-sizing: border-box;text-align: center;}#sk-container-id-2 label.sk-toggleable__label-arrow:before {content: \"▸\";float: left;margin-right: 0.25em;color: #696969;}#sk-container-id-2 label.sk-toggleable__label-arrow:hover:before {color: black;}#sk-container-id-2 div.sk-estimator:hover label.sk-toggleable__label-arrow:before {color: black;}#sk-container-id-2 div.sk-toggleable__content {max-height: 0;max-width: 0;overflow: hidden;text-align: left;background-color: #f0f8ff;}#sk-container-id-2 div.sk-toggleable__content pre {margin: 0.2em;color: black;border-radius: 0.25em;background-color: #f0f8ff;}#sk-container-id-2 input.sk-toggleable__control:checked~div.sk-toggleable__content {max-height: 200px;max-width: 100%;overflow: auto;}#sk-container-id-2 input.sk-toggleable__control:checked~label.sk-toggleable__label-arrow:before {content: \"▾\";}#sk-container-id-2 div.sk-estimator input.sk-toggleable__control:checked~label.sk-toggleable__label {background-color: #d4ebff;}#sk-container-id-2 div.sk-label input.sk-toggleable__control:checked~label.sk-toggleable__label {background-color: #d4ebff;}#sk-container-id-2 input.sk-hidden--visually {border: 0;clip: rect(1px 1px 1px 1px);clip: rect(1px, 1px, 1px, 1px);height: 1px;margin: -1px;overflow: hidden;padding: 0;position: absolute;width: 1px;}#sk-container-id-2 div.sk-estimator {font-family: monospace;background-color: #f0f8ff;border: 1px dotted black;border-radius: 0.25em;box-sizing: border-box;margin-bottom: 0.5em;}#sk-container-id-2 div.sk-estimator:hover {background-color: #d4ebff;}#sk-container-id-2 div.sk-parallel-item::after {content: \"\";width: 100%;border-bottom: 1px solid gray;flex-grow: 1;}#sk-container-id-2 div.sk-label:hover label.sk-toggleable__label {background-color: #d4ebff;}#sk-container-id-2 div.sk-serial::before {content: \"\";position: absolute;border-left: 1px solid gray;box-sizing: border-box;top: 0;bottom: 0;left: 50%;z-index: 0;}#sk-container-id-2 div.sk-serial {display: flex;flex-direction: column;align-items: center;background-color: white;padding-right: 0.2em;padding-left: 0.2em;position: relative;}#sk-container-id-2 div.sk-item {position: relative;z-index: 1;}#sk-container-id-2 div.sk-parallel {display: flex;align-items: stretch;justify-content: center;background-color: white;position: relative;}#sk-container-id-2 div.sk-item::before, #sk-container-id-2 div.sk-parallel-item::before {content: \"\";position: absolute;border-left: 1px solid gray;box-sizing: border-box;top: 0;bottom: 0;left: 50%;z-index: -1;}#sk-container-id-2 div.sk-parallel-item {display: flex;flex-direction: column;z-index: 1;position: relative;background-color: white;}#sk-container-id-2 div.sk-parallel-item:first-child::after {align-self: flex-end;width: 50%;}#sk-container-id-2 div.sk-parallel-item:last-child::after {align-self: flex-start;width: 50%;}#sk-container-id-2 div.sk-parallel-item:only-child::after {width: 0;}#sk-container-id-2 div.sk-dashed-wrapped {border: 1px dashed gray;margin: 0 0.4em 0.5em 0.4em;box-sizing: border-box;padding-bottom: 0.4em;background-color: white;}#sk-container-id-2 div.sk-label label {font-family: monospace;font-weight: bold;display: inline-block;line-height: 1.2em;}#sk-container-id-2 div.sk-label-container {text-align: center;}#sk-container-id-2 div.sk-container {/* jupyter's `normalize.less` sets `[hidden] { display: none; }` but bootstrap.min.css set `[hidden] { display: none !important; }` so we also need the `!important` here to be able to override the default hidden behavior on the sphinx rendered scikit-learn.org. See: https://github.com/scikit-learn/scikit-learn/issues/21755 */display: inline-block !important;position: relative;}#sk-container-id-2 div.sk-text-repr-fallback {display: none;}</style><div id=\"sk-container-id-2\" class=\"sk-top-container\"><div class=\"sk-text-repr-fallback\"><pre>Pipeline(steps=[(&#x27;vect&#x27;, CountVectorizer()), (&#x27;tfidf&#x27;, TfidfTransformer()),\n",
       "                (&#x27;clf&#x27;, MultinomialNB())])</pre><b>In a Jupyter environment, please rerun this cell to show the HTML representation or trust the notebook. <br />On GitHub, the HTML representation is unable to render, please try loading this page with nbviewer.org.</b></div><div class=\"sk-container\" hidden><div class=\"sk-item sk-dashed-wrapped\"><div class=\"sk-label-container\"><div class=\"sk-label sk-toggleable\"><input class=\"sk-toggleable__control sk-hidden--visually\" id=\"sk-estimator-id-4\" type=\"checkbox\" ><label for=\"sk-estimator-id-4\" class=\"sk-toggleable__label sk-toggleable__label-arrow\">Pipeline</label><div class=\"sk-toggleable__content\"><pre>Pipeline(steps=[(&#x27;vect&#x27;, CountVectorizer()), (&#x27;tfidf&#x27;, TfidfTransformer()),\n",
       "                (&#x27;clf&#x27;, MultinomialNB())])</pre></div></div></div><div class=\"sk-serial\"><div class=\"sk-item\"><div class=\"sk-estimator sk-toggleable\"><input class=\"sk-toggleable__control sk-hidden--visually\" id=\"sk-estimator-id-5\" type=\"checkbox\" ><label for=\"sk-estimator-id-5\" class=\"sk-toggleable__label sk-toggleable__label-arrow\">CountVectorizer</label><div class=\"sk-toggleable__content\"><pre>CountVectorizer()</pre></div></div></div><div class=\"sk-item\"><div class=\"sk-estimator sk-toggleable\"><input class=\"sk-toggleable__control sk-hidden--visually\" id=\"sk-estimator-id-6\" type=\"checkbox\" ><label for=\"sk-estimator-id-6\" class=\"sk-toggleable__label sk-toggleable__label-arrow\">TfidfTransformer</label><div class=\"sk-toggleable__content\"><pre>TfidfTransformer()</pre></div></div></div><div class=\"sk-item\"><div class=\"sk-estimator sk-toggleable\"><input class=\"sk-toggleable__control sk-hidden--visually\" id=\"sk-estimator-id-7\" type=\"checkbox\" ><label for=\"sk-estimator-id-7\" class=\"sk-toggleable__label sk-toggleable__label-arrow\">MultinomialNB</label><div class=\"sk-toggleable__content\"><pre>MultinomialNB()</pre></div></div></div></div></div></div></div>"
      ],
      "text/plain": [
       "Pipeline(steps=[('vect', CountVectorizer()), ('tfidf', TfidfTransformer()),\n",
       "                ('clf', MultinomialNB())])"
      ]
     },
     "execution_count": 102,
     "metadata": {},
     "output_type": "execute_result"
    }
   ],
   "source": [
    "from sklearn.pipeline import Pipeline\n",
    "from sklearn.feature_extraction.text import CountVectorizer\n",
    "from sklearn.feature_extraction.text import TfidfTransformer\n",
    "from sklearn.naive_bayes import MultinomialNB\n",
    "from sklearn.model_selection import train_test_split\n",
    "X_train, X_test, y_train, y_test = train_test_split( df['clean'],  df['label'], test_size=0.2, random_state=0, stratify = y)\n",
    "text_clf = Pipeline([('vect', CountVectorizer()),\n",
    "('tfidf', TfidfTransformer()),\n",
    "('clf', MultinomialNB())])\n",
    "text_clf.fit(X_train, y_train)"
   ]
  },
  {
   "cell_type": "code",
   "execution_count": 104,
   "metadata": {},
   "outputs": [
    {
     "name": "stdout",
     "output_type": "stream",
     "text": [
      "[[111   1   2]\n",
      " [  8  55   4]\n",
      " [  1   2  45]]\n",
      "              precision    recall  f1-score   support\n",
      "\n",
      "           0       0.93      0.97      0.95       114\n",
      "           1       0.95      0.82      0.88        67\n",
      "           2       0.88      0.94      0.91        48\n",
      "\n",
      "    accuracy                           0.92       229\n",
      "   macro avg       0.92      0.91      0.91       229\n",
      "weighted avg       0.92      0.92      0.92       229\n",
      "\n",
      "Accuracy Score:  0.9213973799126638\n"
     ]
    }
   ],
   "source": [
    "Y_pred = text_clf.predict(X_test)\n",
    "# confusion matrix\n",
    "cnf_matrix = confusion_matrix(y_test, Y_pred)\n",
    "print(cnf_matrix)\n",
    "print(classification_report(y_test, Y_pred))\n",
    "print('Accuracy Score: ', accuracy_score(y_test,Y_pred))"
   ]
  },
  {
   "cell_type": "code",
   "execution_count": 94,
   "metadata": {
    "colab": {
     "base_uri": "https://localhost:8080/"
    },
    "id": "GqkrLQ5OLi3E",
    "outputId": "b301b935-5bdc-4296-9214-135f40a86b7a"
   },
   "outputs": [
    {
     "name": "stdout",
     "output_type": "stream",
     "text": [
      "[[108   2   4]\n",
      " [  5  55   7]\n",
      " [  0   2  46]]\n",
      "              precision    recall  f1-score   support\n",
      "\n",
      "           0       0.96      0.95      0.95       114\n",
      "           1       0.93      0.82      0.87        67\n",
      "           2       0.81      0.96      0.88        48\n",
      "\n",
      "    accuracy                           0.91       229\n",
      "   macro avg       0.90      0.91      0.90       229\n",
      "weighted avg       0.92      0.91      0.91       229\n",
      "\n",
      "Accuracy Score:  0.9126637554585153\n"
     ]
    }
   ],
   "source": [
    "mnb = MultinomialNB()\n",
    "mnb.fit(X_train_stem, Y_train_stem)\n",
    "Y_pred_stem = mnb.predict(X_test_stem)\n",
    "Y_pred_tr_stem = mnb.predict(X_train_stem)\n",
    "# confusion matrix\n",
    "cnf_matrix = confusion_matrix(Y_test_stem, Y_pred_stem)\n",
    "print(cnf_matrix)\n",
    "print(classification_report(Y_test_stem, Y_pred_stem))\n",
    "print('Accuracy Score: ', accuracy_score(Y_test_stem,Y_pred_stem))"
   ]
  },
  {
   "cell_type": "markdown",
   "metadata": {},
   "source": [
    "## SVM"
   ]
  },
  {
   "cell_type": "code",
   "execution_count": 98,
   "metadata": {},
   "outputs": [
    {
     "name": "stdout",
     "output_type": "stream",
     "text": [
      "Fitting 3 folds for each of 16 candidates, totalling 48 fits\n"
     ]
    },
    {
     "data": {
      "text/html": [
       "<style>#sk-container-id-1 {color: black;background-color: white;}#sk-container-id-1 pre{padding: 0;}#sk-container-id-1 div.sk-toggleable {background-color: white;}#sk-container-id-1 label.sk-toggleable__label {cursor: pointer;display: block;width: 100%;margin-bottom: 0;padding: 0.3em;box-sizing: border-box;text-align: center;}#sk-container-id-1 label.sk-toggleable__label-arrow:before {content: \"▸\";float: left;margin-right: 0.25em;color: #696969;}#sk-container-id-1 label.sk-toggleable__label-arrow:hover:before {color: black;}#sk-container-id-1 div.sk-estimator:hover label.sk-toggleable__label-arrow:before {color: black;}#sk-container-id-1 div.sk-toggleable__content {max-height: 0;max-width: 0;overflow: hidden;text-align: left;background-color: #f0f8ff;}#sk-container-id-1 div.sk-toggleable__content pre {margin: 0.2em;color: black;border-radius: 0.25em;background-color: #f0f8ff;}#sk-container-id-1 input.sk-toggleable__control:checked~div.sk-toggleable__content {max-height: 200px;max-width: 100%;overflow: auto;}#sk-container-id-1 input.sk-toggleable__control:checked~label.sk-toggleable__label-arrow:before {content: \"▾\";}#sk-container-id-1 div.sk-estimator input.sk-toggleable__control:checked~label.sk-toggleable__label {background-color: #d4ebff;}#sk-container-id-1 div.sk-label input.sk-toggleable__control:checked~label.sk-toggleable__label {background-color: #d4ebff;}#sk-container-id-1 input.sk-hidden--visually {border: 0;clip: rect(1px 1px 1px 1px);clip: rect(1px, 1px, 1px, 1px);height: 1px;margin: -1px;overflow: hidden;padding: 0;position: absolute;width: 1px;}#sk-container-id-1 div.sk-estimator {font-family: monospace;background-color: #f0f8ff;border: 1px dotted black;border-radius: 0.25em;box-sizing: border-box;margin-bottom: 0.5em;}#sk-container-id-1 div.sk-estimator:hover {background-color: #d4ebff;}#sk-container-id-1 div.sk-parallel-item::after {content: \"\";width: 100%;border-bottom: 1px solid gray;flex-grow: 1;}#sk-container-id-1 div.sk-label:hover label.sk-toggleable__label {background-color: #d4ebff;}#sk-container-id-1 div.sk-serial::before {content: \"\";position: absolute;border-left: 1px solid gray;box-sizing: border-box;top: 0;bottom: 0;left: 50%;z-index: 0;}#sk-container-id-1 div.sk-serial {display: flex;flex-direction: column;align-items: center;background-color: white;padding-right: 0.2em;padding-left: 0.2em;position: relative;}#sk-container-id-1 div.sk-item {position: relative;z-index: 1;}#sk-container-id-1 div.sk-parallel {display: flex;align-items: stretch;justify-content: center;background-color: white;position: relative;}#sk-container-id-1 div.sk-item::before, #sk-container-id-1 div.sk-parallel-item::before {content: \"\";position: absolute;border-left: 1px solid gray;box-sizing: border-box;top: 0;bottom: 0;left: 50%;z-index: -1;}#sk-container-id-1 div.sk-parallel-item {display: flex;flex-direction: column;z-index: 1;position: relative;background-color: white;}#sk-container-id-1 div.sk-parallel-item:first-child::after {align-self: flex-end;width: 50%;}#sk-container-id-1 div.sk-parallel-item:last-child::after {align-self: flex-start;width: 50%;}#sk-container-id-1 div.sk-parallel-item:only-child::after {width: 0;}#sk-container-id-1 div.sk-dashed-wrapped {border: 1px dashed gray;margin: 0 0.4em 0.5em 0.4em;box-sizing: border-box;padding-bottom: 0.4em;background-color: white;}#sk-container-id-1 div.sk-label label {font-family: monospace;font-weight: bold;display: inline-block;line-height: 1.2em;}#sk-container-id-1 div.sk-label-container {text-align: center;}#sk-container-id-1 div.sk-container {/* jupyter's `normalize.less` sets `[hidden] { display: none; }` but bootstrap.min.css set `[hidden] { display: none !important; }` so we also need the `!important` here to be able to override the default hidden behavior on the sphinx rendered scikit-learn.org. See: https://github.com/scikit-learn/scikit-learn/issues/21755 */display: inline-block !important;position: relative;}#sk-container-id-1 div.sk-text-repr-fallback {display: none;}</style><div id=\"sk-container-id-1\" class=\"sk-top-container\"><div class=\"sk-text-repr-fallback\"><pre>GridSearchCV(cv=3, estimator=SVC(), n_jobs=-1,\n",
       "             param_grid={&#x27;C&#x27;: [0.1, 1.0, 10, 100],\n",
       "                         &#x27;gamma&#x27;: [0.1, 1.0, 10, 100]},\n",
       "             verbose=2)</pre><b>In a Jupyter environment, please rerun this cell to show the HTML representation or trust the notebook. <br />On GitHub, the HTML representation is unable to render, please try loading this page with nbviewer.org.</b></div><div class=\"sk-container\" hidden><div class=\"sk-item sk-dashed-wrapped\"><div class=\"sk-label-container\"><div class=\"sk-label sk-toggleable\"><input class=\"sk-toggleable__control sk-hidden--visually\" id=\"sk-estimator-id-1\" type=\"checkbox\" ><label for=\"sk-estimator-id-1\" class=\"sk-toggleable__label sk-toggleable__label-arrow\">GridSearchCV</label><div class=\"sk-toggleable__content\"><pre>GridSearchCV(cv=3, estimator=SVC(), n_jobs=-1,\n",
       "             param_grid={&#x27;C&#x27;: [0.1, 1.0, 10, 100],\n",
       "                         &#x27;gamma&#x27;: [0.1, 1.0, 10, 100]},\n",
       "             verbose=2)</pre></div></div></div><div class=\"sk-parallel\"><div class=\"sk-parallel-item\"><div class=\"sk-item\"><div class=\"sk-label-container\"><div class=\"sk-label sk-toggleable\"><input class=\"sk-toggleable__control sk-hidden--visually\" id=\"sk-estimator-id-2\" type=\"checkbox\" ><label for=\"sk-estimator-id-2\" class=\"sk-toggleable__label sk-toggleable__label-arrow\">estimator: SVC</label><div class=\"sk-toggleable__content\"><pre>SVC()</pre></div></div></div><div class=\"sk-serial\"><div class=\"sk-item\"><div class=\"sk-estimator sk-toggleable\"><input class=\"sk-toggleable__control sk-hidden--visually\" id=\"sk-estimator-id-3\" type=\"checkbox\" ><label for=\"sk-estimator-id-3\" class=\"sk-toggleable__label sk-toggleable__label-arrow\">SVC</label><div class=\"sk-toggleable__content\"><pre>SVC()</pre></div></div></div></div></div></div></div></div></div></div>"
      ],
      "text/plain": [
       "GridSearchCV(cv=3, estimator=SVC(), n_jobs=-1,\n",
       "             param_grid={'C': [0.1, 1.0, 10, 100],\n",
       "                         'gamma': [0.1, 1.0, 10, 100]},\n",
       "             verbose=2)"
      ]
     },
     "execution_count": 98,
     "metadata": {},
     "output_type": "execute_result"
    }
   ],
   "source": [
    "from sklearn.svm import SVC\n",
    "from sklearn.model_selection import GridSearchCV\n",
    "search = GridSearchCV(cv=3, estimator=SVC(), n_jobs=-1,\n",
    "             param_grid={'C': [0.1, 1.0, 10, 100],\n",
    "                         'gamma': [0.1, 1.0, 10, 100]},\n",
    "             verbose=2)\n",
    "search.fit(X_train_stem, Y_train_stem)"
   ]
  },
  {
   "cell_type": "code",
   "execution_count": 99,
   "metadata": {},
   "outputs": [
    {
     "data": {
      "text/plain": [
       "(0.929889272361231, {'C': 10, 'gamma': 1.0})"
      ]
     },
     "execution_count": 99,
     "metadata": {},
     "output_type": "execute_result"
    }
   ],
   "source": [
    "search.best_score_, search.best_params_"
   ]
  },
  {
   "cell_type": "code",
   "execution_count": 100,
   "metadata": {},
   "outputs": [
    {
     "name": "stdout",
     "output_type": "stream",
     "text": [
      "[[111   1   2]\n",
      " [  5  59   3]\n",
      " [  1   1  46]]\n",
      "              precision    recall  f1-score   support\n",
      "\n",
      "           0       0.95      0.97      0.96       114\n",
      "           1       0.97      0.88      0.92        67\n",
      "           2       0.90      0.96      0.93        48\n",
      "\n",
      "    accuracy                           0.94       229\n",
      "   macro avg       0.94      0.94      0.94       229\n",
      "weighted avg       0.94      0.94      0.94       229\n",
      "\n",
      "Accuracy Score:  0.9432314410480349\n"
     ]
    }
   ],
   "source": [
    "svm = SVC(C = 10, gamma = 1.0)\n",
    "svm.fit(X_train_stem, Y_train_stem)\n",
    "Y_pred_stem = svm.predict(X_test_stem)\n",
    "Y_pred_tr_stem = svm.predict(X_train_stem)\n",
    "# confusion matrix\n",
    "cnf_matrix = confusion_matrix(Y_test_stem, Y_pred_stem)\n",
    "print(cnf_matrix)\n",
    "print(classification_report(Y_test_stem, Y_pred_stem))\n",
    "print('Accuracy Score: ', accuracy_score(Y_test_stem,Y_pred_stem))"
   ]
  },
  {
   "cell_type": "code",
   "execution_count": null,
   "metadata": {},
   "outputs": [],
   "source": []
  }
 ],
 "metadata": {
  "accelerator": "GPU",
  "colab": {
   "provenance": [],
   "toc_visible": true
  },
  "gpuClass": "standard",
  "kernelspec": {
   "display_name": "Python 3 (ipykernel)",
   "language": "python",
   "name": "python3"
  },
  "language_info": {
   "codemirror_mode": {
    "name": "ipython",
    "version": 3
   },
   "file_extension": ".py",
   "mimetype": "text/x-python",
   "name": "python",
   "nbconvert_exporter": "python",
   "pygments_lexer": "ipython3",
   "version": "3.10.8"
  }
 },
 "nbformat": 4,
 "nbformat_minor": 1
}
